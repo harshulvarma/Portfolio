{
 "cells": [
  {
   "cell_type": "markdown",
   "metadata": {},
   "source": [
    "# Breast Cancer Prediction in Histology Images\n",
    "###### -Harshul Varma"
   ]
  },
  {
   "cell_type": "markdown",
   "metadata": {},
   "source": [
    "***"
   ]
  },
  {
   "cell_type": "markdown",
   "metadata": {},
   "source": [
    "## 1.0 Introduction"
   ]
  },
  {
   "cell_type": "markdown",
   "metadata": {},
   "source": [
    "Invasive Ductal Carcinoma or IDC is the most common type of breast cancer and automated methods utilising machine learning in order to classify malignant and benign tissue can save valuable time and reduce error.\n",
    "\n",
    "This script will identify IDC from a dataset which contains of ~5000 50x50 pixel RGB H&E stained breast cancer histoloy images.\n",
    "\n",
    "The dataset was evaluated on various machine learning algorithms and neural network architectures and utilising data augmentation. Transfer Learning using a ResNet 50 model provided the best results in terms of accuracy metrics. Data was also balanced to have equally IDC+ and IDC- cases to yield reliable results."
   ]
  },
  {
   "cell_type": "markdown",
   "metadata": {},
   "source": [
    "## 2.0 Dataset"
   ]
  },
  {
   "cell_type": "markdown",
   "metadata": {},
   "source": [
    "Importing Libraries"
   ]
  },
  {
   "cell_type": "code",
   "execution_count": 1,
   "metadata": {},
   "outputs": [],
   "source": [
    "import tensorflow as tf\n",
    "import numpy as np\n",
    "import pandas as pd\n",
    "import fnmatch\n",
    "from tensorflow.keras.models import Sequential,Model\n",
    "from tensorflow.keras.layers import Dense, Dropout, Flatten, Activation, Conv2D, MaxPooling2D,GlobalAveragePooling2D,Input\n",
    "from tensorflow.keras.utils import to_categorical,normalize\n",
    "import matplotlib.pyplot as plt\n",
    "from sklearn.model_selection import train_test_split\n",
    "from tensorflow.keras.preprocessing.image import ImageDataGenerator\n",
    "from tensorflow.keras.applications.resnet50 import ResNet50, preprocess_input\n",
    "from tensorflow.keras.optimizers import Adam\n",
    "from tensorflow.keras import regularizers\n",
    "from glob import glob\n",
    "import cv2\n",
    "import seaborn as sns\n",
    "from sklearn.metrics import confusion_matrix"
   ]
  },
  {
   "cell_type": "markdown",
   "metadata": {},
   "source": [
    "Let us see how the data is stored in the folder"
   ]
  },
  {
   "cell_type": "code",
   "execution_count": 3,
   "metadata": {},
   "outputs": [
    {
     "name": "stdout",
     "output_type": "stream",
     "text": [
      "IDC_regular_ps50_idx5\\10253\\0\\10253_idx5_x1001_y1001_class0.png\n",
      "IDC_regular_ps50_idx5\\10253\\0\\10253_idx5_x1001_y1051_class0.png\n",
      "IDC_regular_ps50_idx5\\10253\\0\\10253_idx5_x1001_y1101_class0.png\n",
      "IDC_regular_ps50_idx5\\10253\\0\\10253_idx5_x1001_y1151_class0.png\n",
      "IDC_regular_ps50_idx5\\10253\\0\\10253_idx5_x1001_y1201_class0.png\n",
      "IDC_regular_ps50_idx5\\10253\\0\\10253_idx5_x1001_y1251_class0.png\n",
      "IDC_regular_ps50_idx5\\10253\\0\\10253_idx5_x1001_y1301_class0.png\n",
      "IDC_regular_ps50_idx5\\10253\\0\\10253_idx5_x1001_y1351_class0.png\n",
      "IDC_regular_ps50_idx5\\10253\\0\\10253_idx5_x1001_y1501_class0.png\n",
      "IDC_regular_ps50_idx5\\10253\\0\\10253_idx5_x1001_y1551_class0.png\n"
     ]
    }
   ],
   "source": [
    "imagePatches = glob('IDC_regular_ps50_idx5/**/*.png', recursive=True)\n",
    "for filename in imagePatches[0:10]:\n",
    "    print(filename)"
   ]
  },
  {
   "cell_type": "markdown",
   "metadata": {},
   "source": [
    "It seems the labels 0 and 1 are created and are saves as 'class0.png' and 'class1.png'. We can save the respective labels in two different datasets."
   ]
  },
  {
   "cell_type": "code",
   "execution_count": 4,
   "metadata": {},
   "outputs": [],
   "source": [
    "patternZero = '*class0.png'\n",
    "patternOne = '*class1.png'\n",
    "classZero = fnmatch.filter(imagePatches, patternZero)\n",
    "classOne = fnmatch.filter(imagePatches, patternOne)"
   ]
  },
  {
   "cell_type": "code",
   "execution_count": 13,
   "metadata": {},
   "outputs": [
    {
     "name": "stdout",
     "output_type": "stream",
     "text": [
      "Total number of images: 277524, where 198738 images are class zero- IDC(-) and 78786 are class one-IDC(+)\n"
     ]
    }
   ],
   "source": [
    "print('Total number of images: {}, where {} images are class zero- IDC(-) and {} are class one-IDC(+)'.format(len(imagePatches),len(classZero),len(classOne)))"
   ]
  },
  {
   "cell_type": "markdown",
   "metadata": {},
   "source": [
    "We can now make a function to create feature set (images) - x, and a label set-y"
   ]
  },
  {
   "cell_type": "code",
   "execution_count": 6,
   "metadata": {},
   "outputs": [],
   "source": [
    "def proc_images(lowerIndex,upperIndex):\n",
    "    x = []\n",
    "    y = []\n",
    "    WIDTH = 50\n",
    "    HEIGHT = 50\n",
    "    for img in imagePatches[lowerIndex:upperIndex]:\n",
    "        full_size_image = cv2.imread(img)\n",
    "        x.append(cv2.resize(full_size_image, (WIDTH,HEIGHT), interpolation=cv2.INTER_CUBIC))\n",
    "        if img in classZero:\n",
    "            y.append(0)\n",
    "        elif img in classOne:\n",
    "            y.append(1)\n",
    "        else:\n",
    "            return\n",
    "    return x,y"
   ]
  },
  {
   "cell_type": "markdown",
   "metadata": {},
   "source": [
    "We will only use 90,000 images to create our model"
   ]
  },
  {
   "cell_type": "code",
   "execution_count": 12,
   "metadata": {},
   "outputs": [],
   "source": [
    "X,Y = proc_images(0,90000)\n",
    "df = pd.DataFrame()\n",
    "df[\"images\"]=X\n",
    "df[\"labels\"]=Y\n",
    "X2=df[\"images\"]\n",
    "Y2=df[\"labels\"]\n",
    "X2=np.array(X2)\n",
    "imgs0=[]\n",
    "imgs1=[]\n",
    "imgs0 = X2[Y2==0] # (0 = no IDC, 1 = IDC)\n",
    "imgs1 = X2[Y2==1]"
   ]
  },
  {
   "cell_type": "markdown",
   "metadata": {},
   "source": [
    "Let us describe our data"
   ]
  },
  {
   "cell_type": "code",
   "execution_count": 15,
   "metadata": {},
   "outputs": [
    {
     "name": "stdout",
     "output_type": "stream",
     "text": [
      "Total number of images: 90000\n",
      "Number of IDC(-) Images: 64583\n",
      "Number of IDC(+) Images: 25417\n",
      "Percentage of positive images: 28.24%\n",
      "Image shape (Width, Height, Channels): (50, 50, 3)\n"
     ]
    }
   ],
   "source": [
    "def describeData(a,b):\n",
    "    print('Total number of images: {}'.format(len(a)))\n",
    "    print('Number of IDC(-) Images: {}'.format(np.sum(b==0)))\n",
    "    print('Number of IDC(+) Images: {}'.format(np.sum(b==1)))\n",
    "    print('Percentage of positive images: {:.2f}%'.format(100*np.mean(b)))\n",
    "    print('Image shape (Width, Height, Channels): {}'.format(a[0].shape))\n",
    "describeData(X2,Y2)\n",
    "\n"
   ]
  },
  {
   "cell_type": "markdown",
   "metadata": {},
   "source": [
    "Let us look at a random image and print the corresponding image."
   ]
  },
  {
   "cell_type": "code",
   "execution_count": 16,
   "metadata": {},
   "outputs": [
    {
     "name": "stdout",
     "output_type": "stream",
     "text": [
      "0\n"
     ]
    },
    {
     "data": {
      "image/png": "[encoded data removed]",
      "text/plain": [
       "<Figure size 144x144 with 1 Axes>"
      ]
     },
     "metadata": {
      "needs_background": "light"
     },
     "output_type": "display_data"
    }
   ],
   "source": [
    "plt.figure(figsize=(2,2))\n",
    "plt.imshow(X2[9])\n",
    "print(Y2[9])"
   ]
  },
  {
   "cell_type": "markdown",
   "metadata": {},
   "source": [
    "Splitting data, converting labels to one-hot vectors "
   ]
  },
  {
   "cell_type": "markdown",
   "metadata": {},
   "source": [
    "## 3.0 Model "
   ]
  },
  {
   "cell_type": "markdown",
   "metadata": {},
   "source": [
    "Splitting the data to train-test split and converting data to onehot categories"
   ]
  },
  {
   "cell_type": "code",
   "execution_count": 17,
   "metadata": {},
   "outputs": [
    {
     "name": "stdout",
     "output_type": "stream",
     "text": [
      "Training Data Shape: (81000, 50, 50, 3)\n",
      "Testing Data Shape: (9000, 50, 50, 3)\n"
     ]
    }
   ],
   "source": [
    "X=np.array(X,dtype=np.float32)\n",
    "\n",
    "X_train, X_test, Y_train, Y_test = train_test_split(X, Y, test_size=0.1)\n",
    "\n",
    "Y_trainHot = to_categorical(Y_train)\n",
    "Y_testHot = to_categorical(Y_test)\n",
    "\n",
    "\n",
    "print(\"Training Data Shape:\", X_train.shape)\n",
    "print(\"Testing Data Shape:\", X_test.shape)"
   ]
  },
  {
   "cell_type": "markdown",
   "metadata": {},
   "source": [
    "We will use Transfer Learning using the ResNet50 model."
   ]
  },
  {
   "cell_type": "code",
   "execution_count": 18,
   "metadata": {},
   "outputs": [
    {
     "name": "stderr",
     "output_type": "stream",
     "text": [
      "C:\\Users\\harsh\\Anaconda3\\lib\\site-packages\\keras_applications\\resnet50.py:265: UserWarning: The output shape of `ResNet50(include_top=False)` has been changed since Keras 2.2.0.\n",
      "  warnings.warn('The output shape of `ResNet50(include_top=False)` '\n"
     ]
    }
   ],
   "source": [
    "rn = ResNet50(weights='imagenet', include_top=False,input_shape=(50,50,3))"
   ]
  },
  {
   "cell_type": "markdown",
   "metadata": {},
   "source": [
    "Preprocessing and predicting using resnet50"
   ]
  },
  {
   "cell_type": "code",
   "execution_count": 19,
   "metadata": {},
   "outputs": [],
   "source": [
    "train_input = preprocess_input(X_train)\n",
    "new_train = rn.predict(train_input)"
   ]
  },
  {
   "cell_type": "code",
   "execution_count": 20,
   "metadata": {},
   "outputs": [],
   "source": [
    "test_input = preprocess_input(X_test)\n",
    "new_test = rn.predict(test_input)"
   ]
  },
  {
   "cell_type": "markdown",
   "metadata": {},
   "source": [
    "Fully Conncected model on top of Resnet50 using previously predicted weights"
   ]
  },
  {
   "cell_type": "code",
   "execution_count": 21,
   "metadata": {},
   "outputs": [
    {
     "name": "stdout",
     "output_type": "stream",
     "text": [
      "Train on 81000 samples, validate on 9000 samples\n",
      "Epoch 1/100\n",
      "81000/81000 [==============================] - 3s 43us/step - loss: 0.7590 - acc: 0.6510 - val_loss: 0.6080 - val_acc: 0.7208\n",
      "Epoch 2/100\n",
      "81000/81000 [==============================] - 3s 35us/step - loss: 0.5665 - acc: 0.7528 - val_loss: 0.5295 - val_acc: 0.7656\n",
      "Epoch 3/100\n",
      "81000/81000 [==============================] - 3s 34us/step - loss: 0.5168 - acc: 0.7788 - val_loss: 0.4923 - val_acc: 0.7853\n",
      "Epoch 4/100\n",
      "81000/81000 [==============================] - 3s 35us/step - loss: 0.4879 - acc: 0.7923 - val_loss: 0.4674 - val_acc: 0.8002\n",
      "Epoch 5/100\n",
      "81000/81000 [==============================] - 3s 36us/step - loss: 0.4673 - acc: 0.8020 - val_loss: 0.4494 - val_acc: 0.8078\n",
      "Epoch 6/100\n",
      "81000/81000 [==============================] - 3s 36us/step - loss: 0.4520 - acc: 0.8087 - val_loss: 0.4361 - val_acc: 0.8142\n",
      "Epoch 7/100\n",
      "81000/81000 [==============================] - 3s 35us/step - loss: 0.4400 - acc: 0.8144 - val_loss: 0.4256 - val_acc: 0.8211\n",
      "Epoch 8/100\n",
      "81000/81000 [==============================] - 3s 36us/step - loss: 0.4305 - acc: 0.8183 - val_loss: 0.4171 - val_acc: 0.8247\n",
      "Epoch 9/100\n",
      "81000/81000 [==============================] - 3s 35us/step - loss: 0.4227 - acc: 0.8227 - val_loss: 0.4109 - val_acc: 0.8274\n",
      "Epoch 10/100\n",
      "81000/81000 [==============================] - 3s 35us/step - loss: 0.4162 - acc: 0.8256 - val_loss: 0.4049 - val_acc: 0.8267\n",
      "Epoch 11/100\n",
      "81000/81000 [==============================] - 3s 35us/step - loss: 0.4106 - acc: 0.8282 - val_loss: 0.4001 - val_acc: 0.8294\n",
      "Epoch 12/100\n",
      "81000/81000 [==============================] - 3s 37us/step - loss: 0.4058 - acc: 0.8304 - val_loss: 0.3960 - val_acc: 0.8312\n",
      "Epoch 13/100\n",
      "81000/81000 [==============================] - 3s 37us/step - loss: 0.4017 - acc: 0.8320 - val_loss: 0.3925 - val_acc: 0.8329\n",
      "Epoch 14/100\n",
      "81000/81000 [==============================] - 3s 36us/step - loss: 0.3979 - acc: 0.8335 - val_loss: 0.3893 - val_acc: 0.8360\n",
      "Epoch 15/100\n",
      "81000/81000 [==============================] - 3s 35us/step - loss: 0.3946 - acc: 0.8351 - val_loss: 0.3865 - val_acc: 0.8377\n",
      "Epoch 16/100\n",
      "81000/81000 [==============================] - 3s 36us/step - loss: 0.3916 - acc: 0.8359 - val_loss: 0.3842 - val_acc: 0.8382\n",
      "Epoch 17/100\n",
      "81000/81000 [==============================] - 3s 37us/step - loss: 0.3890 - acc: 0.8375 - val_loss: 0.3816 - val_acc: 0.8399\n",
      "Epoch 18/100\n",
      "81000/81000 [==============================] - 3s 34us/step - loss: 0.3866 - acc: 0.8382 - val_loss: 0.3799 - val_acc: 0.8412\n",
      "Epoch 19/100\n",
      "81000/81000 [==============================] - 3s 34us/step - loss: 0.3842 - acc: 0.8391 - val_loss: 0.3782 - val_acc: 0.8421\n",
      "Epoch 20/100\n",
      "81000/81000 [==============================] - 3s 34us/step - loss: 0.3822 - acc: 0.8402 - val_loss: 0.3761 - val_acc: 0.8417\n",
      "Epoch 21/100\n",
      "81000/81000 [==============================] - 3s 34us/step - loss: 0.3804 - acc: 0.8404 - val_loss: 0.3745 - val_acc: 0.8431\n",
      "Epoch 22/100\n",
      "81000/81000 [==============================] - 3s 34us/step - loss: 0.3785 - acc: 0.8414 - val_loss: 0.3729 - val_acc: 0.8436\n",
      "Epoch 23/100\n",
      "81000/81000 [==============================] - 3s 38us/step - loss: 0.3769 - acc: 0.8420 - val_loss: 0.3717 - val_acc: 0.8436\n",
      "Epoch 24/100\n",
      "81000/81000 [==============================] - 3s 36us/step - loss: 0.3754 - acc: 0.8426 - val_loss: 0.3703 - val_acc: 0.8444\n",
      "Epoch 25/100\n",
      "81000/81000 [==============================] - 3s 35us/step - loss: 0.3739 - acc: 0.8430 - val_loss: 0.3693 - val_acc: 0.8447\n",
      "Epoch 26/100\n",
      "81000/81000 [==============================] - 3s 34us/step - loss: 0.3725 - acc: 0.8437 - val_loss: 0.3681 - val_acc: 0.8453\n",
      "Epoch 27/100\n",
      "81000/81000 [==============================] - 3s 34us/step - loss: 0.3713 - acc: 0.8445 - val_loss: 0.3671 - val_acc: 0.8463\n",
      "Epoch 28/100\n",
      "81000/81000 [==============================] - 3s 35us/step - loss: 0.3701 - acc: 0.8450 - val_loss: 0.3662 - val_acc: 0.8467\n",
      "Epoch 29/100\n",
      "81000/81000 [==============================] - 3s 34us/step - loss: 0.3689 - acc: 0.8455 - val_loss: 0.3653 - val_acc: 0.8471\n",
      "Epoch 30/100\n",
      "81000/81000 [==============================] - 3s 34us/step - loss: 0.3678 - acc: 0.8459 - val_loss: 0.3644 - val_acc: 0.8474\n",
      "Epoch 31/100\n",
      "81000/81000 [==============================] - 3s 34us/step - loss: 0.3668 - acc: 0.8464 - val_loss: 0.3635 - val_acc: 0.8482\n",
      "Epoch 32/100\n",
      "81000/81000 [==============================] - 3s 34us/step - loss: 0.3658 - acc: 0.8468 - val_loss: 0.3629 - val_acc: 0.8483\n",
      "Epoch 33/100\n",
      "81000/81000 [==============================] - 3s 35us/step - loss: 0.3648 - acc: 0.8475 - val_loss: 0.3621 - val_acc: 0.8481\n",
      "Epoch 34/100\n",
      "81000/81000 [==============================] - 3s 35us/step - loss: 0.3639 - acc: 0.8476 - val_loss: 0.3610 - val_acc: 0.8497\n",
      "Epoch 35/100\n",
      "81000/81000 [==============================] - 3s 34us/step - loss: 0.3630 - acc: 0.8480 - val_loss: 0.3605 - val_acc: 0.8498\n",
      "Epoch 36/100\n",
      "81000/81000 [==============================] - 3s 34us/step - loss: 0.3621 - acc: 0.8481 - val_loss: 0.3599 - val_acc: 0.8499\n",
      "Epoch 37/100\n",
      "81000/81000 [==============================] - 3s 35us/step - loss: 0.3614 - acc: 0.8485 - val_loss: 0.3591 - val_acc: 0.8503\n",
      "Epoch 38/100\n",
      "81000/81000 [==============================] - 3s 35us/step - loss: 0.3606 - acc: 0.8490 - val_loss: 0.3585 - val_acc: 0.8506\n",
      "Epoch 39/100\n",
      "81000/81000 [==============================] - 3s 34us/step - loss: 0.3599 - acc: 0.8492 - val_loss: 0.3581 - val_acc: 0.8497\n",
      "Epoch 40/100\n",
      "81000/81000 [==============================] - 3s 34us/step - loss: 0.3592 - acc: 0.8496 - val_loss: 0.3576 - val_acc: 0.8510\n",
      "Epoch 41/100\n",
      "81000/81000 [==============================] - 3s 34us/step - loss: 0.3584 - acc: 0.8497 - val_loss: 0.3574 - val_acc: 0.8508\n",
      "Epoch 42/100\n",
      "81000/81000 [==============================] - 3s 36us/step - loss: 0.3579 - acc: 0.8503 - val_loss: 0.3564 - val_acc: 0.8519\n",
      "Epoch 43/100\n",
      "81000/81000 [==============================] - 3s 35us/step - loss: 0.3571 - acc: 0.8505 - val_loss: 0.3558 - val_acc: 0.8514\n",
      "Epoch 44/100\n",
      "81000/81000 [==============================] - 3s 36us/step - loss: 0.3565 - acc: 0.8508 - val_loss: 0.3554 - val_acc: 0.8518\n",
      "Epoch 45/100\n",
      "81000/81000 [==============================] - 3s 35us/step - loss: 0.3559 - acc: 0.8509 - val_loss: 0.3550 - val_acc: 0.8526\n",
      "Epoch 46/100\n",
      "81000/81000 [==============================] - 3s 36us/step - loss: 0.3554 - acc: 0.8510 - val_loss: 0.3544 - val_acc: 0.8523\n",
      "Epoch 47/100\n",
      "81000/81000 [==============================] - 3s 36us/step - loss: 0.3548 - acc: 0.8513 - val_loss: 0.3541 - val_acc: 0.8532\n",
      "Epoch 48/100\n",
      "81000/81000 [==============================] - 3s 35us/step - loss: 0.3543 - acc: 0.8515 - val_loss: 0.3536 - val_acc: 0.8527\n",
      "Epoch 49/100\n",
      "81000/81000 [==============================] - 3s 35us/step - loss: 0.3537 - acc: 0.8518 - val_loss: 0.3530 - val_acc: 0.8534\n",
      "Epoch 50/100\n",
      "81000/81000 [==============================] - 3s 34us/step - loss: 0.3532 - acc: 0.8519 - val_loss: 0.3529 - val_acc: 0.8536\n",
      "Epoch 51/100\n",
      "81000/81000 [==============================] - 3s 35us/step - loss: 0.3527 - acc: 0.8521 - val_loss: 0.3524 - val_acc: 0.8536\n",
      "Epoch 52/100\n",
      "81000/81000 [==============================] - 3s 35us/step - loss: 0.3523 - acc: 0.8521 - val_loss: 0.3520 - val_acc: 0.8541\n",
      "Epoch 53/100\n",
      "81000/81000 [==============================] - 3s 35us/step - loss: 0.3518 - acc: 0.8522 - val_loss: 0.3520 - val_acc: 0.8534\n",
      "Epoch 54/100\n",
      "81000/81000 [==============================] - 3s 35us/step - loss: 0.3513 - acc: 0.8523 - val_loss: 0.3515 - val_acc: 0.8550\n",
      "Epoch 55/100\n",
      "81000/81000 [==============================] - 3s 34us/step - loss: 0.3509 - acc: 0.8525 - val_loss: 0.3510 - val_acc: 0.8550\n",
      "Epoch 56/100\n",
      "81000/81000 [==============================] - 3s 36us/step - loss: 0.3505 - acc: 0.8527 - val_loss: 0.3508 - val_acc: 0.8550\n",
      "Epoch 57/100\n",
      "81000/81000 [==============================] - 3s 35us/step - loss: 0.3500 - acc: 0.8529 - val_loss: 0.3504 - val_acc: 0.8554\n",
      "Epoch 58/100\n",
      "81000/81000 [==============================] - 3s 34us/step - loss: 0.3497 - acc: 0.8528 - val_loss: 0.3503 - val_acc: 0.8539\n",
      "Epoch 59/100\n",
      "81000/81000 [==============================] - 3s 34us/step - loss: 0.3492 - acc: 0.8534 - val_loss: 0.3500 - val_acc: 0.8552\n",
      "Epoch 60/100\n",
      "81000/81000 [==============================] - 3s 34us/step - loss: 0.3488 - acc: 0.8535 - val_loss: 0.3495 - val_acc: 0.8548\n",
      "Epoch 61/100\n",
      "81000/81000 [==============================] - 3s 34us/step - loss: 0.3485 - acc: 0.8534 - val_loss: 0.3492 - val_acc: 0.8559\n",
      "Epoch 62/100\n",
      "81000/81000 [==============================] - 3s 34us/step - loss: 0.3481 - acc: 0.8537 - val_loss: 0.3491 - val_acc: 0.8552\n",
      "Epoch 63/100\n",
      "81000/81000 [==============================] - 3s 35us/step - loss: 0.3477 - acc: 0.8543 - val_loss: 0.3489 - val_acc: 0.8550\n",
      "Epoch 64/100\n",
      "81000/81000 [==============================] - 3s 37us/step - loss: 0.3474 - acc: 0.8541 - val_loss: 0.3485 - val_acc: 0.8568\n",
      "Epoch 65/100\n",
      "81000/81000 [==============================] - 3s 36us/step - loss: 0.3470 - acc: 0.8542 - val_loss: 0.3483 - val_acc: 0.8564\n",
      "Epoch 66/100\n",
      "81000/81000 [==============================] - 3s 34us/step - loss: 0.3467 - acc: 0.8545 - val_loss: 0.3484 - val_acc: 0.8564\n",
      "Epoch 67/100\n",
      "81000/81000 [==============================] - 3s 38us/step - loss: 0.3464 - acc: 0.8547 - val_loss: 0.3480 - val_acc: 0.8557\n",
      "Epoch 68/100\n",
      "81000/81000 [==============================] - 3s 36us/step - loss: 0.3461 - acc: 0.8549 - val_loss: 0.3477 - val_acc: 0.8560\n",
      "Epoch 69/100\n",
      "81000/81000 [==============================] - 3s 36us/step - loss: 0.3458 - acc: 0.8550 - val_loss: 0.3475 - val_acc: 0.8559\n",
      "Epoch 70/100\n",
      "81000/81000 [==============================] - 3s 37us/step - loss: 0.3455 - acc: 0.8548 - val_loss: 0.3473 - val_acc: 0.8564\n",
      "Epoch 71/100\n",
      "81000/81000 [==============================] - 3s 35us/step - loss: 0.3452 - acc: 0.8550 - val_loss: 0.3470 - val_acc: 0.8556\n",
      "Epoch 72/100\n",
      "81000/81000 [==============================] - 3s 34us/step - loss: 0.3449 - acc: 0.8553 - val_loss: 0.3468 - val_acc: 0.8568\n",
      "Epoch 73/100\n",
      "81000/81000 [==============================] - 3s 35us/step - loss: 0.3445 - acc: 0.8557 - val_loss: 0.3467 - val_acc: 0.8550\n",
      "Epoch 74/100\n",
      "81000/81000 [==============================] - 3s 41us/step - loss: 0.3443 - acc: 0.8557 - val_loss: 0.3464 - val_acc: 0.8571\n",
      "Epoch 75/100\n",
      "81000/81000 [==============================] - 3s 38us/step - loss: 0.3441 - acc: 0.8556 - val_loss: 0.3463 - val_acc: 0.8558\n",
      "Epoch 76/100\n",
      "81000/81000 [==============================] - 3s 38us/step - loss: 0.3437 - acc: 0.8558 - val_loss: 0.3462 - val_acc: 0.8557\n",
      "Epoch 77/100\n",
      "81000/81000 [==============================] - 3s 37us/step - loss: 0.3435 - acc: 0.8558 - val_loss: 0.3464 - val_acc: 0.8560\n",
      "Epoch 78/100\n",
      "81000/81000 [==============================] - 3s 36us/step - loss: 0.3433 - acc: 0.8560 - val_loss: 0.3459 - val_acc: 0.8567\n",
      "Epoch 79/100\n",
      "81000/81000 [==============================] - 3s 35us/step - loss: 0.3430 - acc: 0.8560 - val_loss: 0.3457 - val_acc: 0.8566\n",
      "Epoch 80/100\n",
      "81000/81000 [==============================] - 3s 34us/step - loss: 0.3428 - acc: 0.8560 - val_loss: 0.3459 - val_acc: 0.8566\n",
      "Epoch 81/100\n",
      "81000/81000 [==============================] - 3s 35us/step - loss: 0.3425 - acc: 0.8562 - val_loss: 0.3456 - val_acc: 0.8574\n",
      "Epoch 82/100\n",
      "81000/81000 [==============================] - 3s 35us/step - loss: 0.3423 - acc: 0.8564 - val_loss: 0.3452 - val_acc: 0.8570\n",
      "Epoch 83/100\n",
      "81000/81000 [==============================] - 3s 34us/step - loss: 0.3420 - acc: 0.8565 - val_loss: 0.3452 - val_acc: 0.8559\n",
      "Epoch 84/100\n",
      "81000/81000 [==============================] - 3s 37us/step - loss: 0.3418 - acc: 0.8567 - val_loss: 0.3451 - val_acc: 0.8576\n",
      "Epoch 85/100\n",
      "81000/81000 [==============================] - 3s 36us/step - loss: 0.3416 - acc: 0.8565 - val_loss: 0.3447 - val_acc: 0.8571\n",
      "Epoch 86/100\n",
      "81000/81000 [==============================] - 3s 35us/step - loss: 0.3414 - acc: 0.8567 - val_loss: 0.3445 - val_acc: 0.8562\n",
      "Epoch 87/100\n",
      "81000/81000 [==============================] - 3s 34us/step - loss: 0.3412 - acc: 0.8570 - val_loss: 0.3445 - val_acc: 0.8563\n",
      "Epoch 88/100\n",
      "81000/81000 [==============================] - 3s 34us/step - loss: 0.3410 - acc: 0.8571 - val_loss: 0.3443 - val_acc: 0.8567\n",
      "Epoch 89/100\n",
      "81000/81000 [==============================] - 3s 35us/step - loss: 0.3407 - acc: 0.8568 - val_loss: 0.3441 - val_acc: 0.8564\n",
      "Epoch 90/100\n",
      "81000/81000 [==============================] - 3s 37us/step - loss: 0.3405 - acc: 0.8571 - val_loss: 0.3441 - val_acc: 0.8574\n",
      "Epoch 91/100\n",
      "81000/81000 [==============================] - 3s 36us/step - loss: 0.3404 - acc: 0.8570 - val_loss: 0.3441 - val_acc: 0.8577\n",
      "Epoch 92/100\n",
      "81000/81000 [==============================] - 3s 36us/step - loss: 0.3401 - acc: 0.8571 - val_loss: 0.3438 - val_acc: 0.8563\n",
      "Epoch 93/100\n",
      "81000/81000 [==============================] - 3s 36us/step - loss: 0.3400 - acc: 0.8575 - val_loss: 0.3436 - val_acc: 0.8563\n",
      "Epoch 94/100\n",
      "81000/81000 [==============================] - 3s 36us/step - loss: 0.3398 - acc: 0.8570 - val_loss: 0.3437 - val_acc: 0.8572\n",
      "Epoch 95/100\n",
      "81000/81000 [==============================] - 3s 35us/step - loss: 0.3396 - acc: 0.8572 - val_loss: 0.3437 - val_acc: 0.8586\n",
      "Epoch 96/100\n",
      "81000/81000 [==============================] - 3s 35us/step - loss: 0.3394 - acc: 0.8572 - val_loss: 0.3434 - val_acc: 0.8568\n",
      "Epoch 97/100\n",
      "81000/81000 [==============================] - 3s 35us/step - loss: 0.3392 - acc: 0.8572 - val_loss: 0.3431 - val_acc: 0.8563\n",
      "Epoch 98/100\n",
      "81000/81000 [==============================] - 3s 36us/step - loss: 0.3391 - acc: 0.8574 - val_loss: 0.3432 - val_acc: 0.8571\n",
      "Epoch 99/100\n",
      "81000/81000 [==============================] - 3s 37us/step - loss: 0.3389 - acc: 0.8581 - val_loss: 0.3432 - val_acc: 0.8574\n",
      "Epoch 100/100\n",
      "81000/81000 [==============================] - 3s 36us/step - loss: 0.3388 - acc: 0.8578 - val_loss: 0.3430 - val_acc: 0.8568\n"
     ]
    }
   ],
   "source": [
    "model = Sequential()\n",
    "\n",
    "\n",
    "model.add(GlobalAveragePooling2D(input_shape=(new_train.shape[1:])))\n",
    "\n",
    "model.add(Dense(2))\n",
    "model.add(Activation('softmax'))\n",
    "\n",
    "adam= Adam(lr=0.00001)\n",
    "\n",
    "model.compile(optimizer=adam, loss='categorical_crossentropy', metrics=['accuracy'])\n",
    "\n",
    "history = model.fit(new_train,Y_trainHot,batch_size=128,epochs = 100, validation_data=(new_test,Y_testHot))"
   ]
  },
  {
   "cell_type": "markdown",
   "metadata": {},
   "source": [
    "Plotting Accuracy and loss"
   ]
  },
  {
   "cell_type": "code",
   "execution_count": 22,
   "metadata": {},
   "outputs": [
    {
     "data": {
      "image/png": "[encoded data removed]",
      "text/plain": [
       "<Figure size 432x288 with 1 Axes>"
      ]
     },
     "metadata": {
      "needs_background": "light"
     },
     "output_type": "display_data"
    },
    {
     "data": {
      "image/png": "[encoded data removed]",
      "text/plain": [
       "<Figure size 432x288 with 1 Axes>"
      ]
     },
     "metadata": {
      "needs_background": "light"
     },
     "output_type": "display_data"
    }
   ],
   "source": [
    "\n",
    "plt.plot(history.history['acc'])\n",
    "plt.plot(history.history['val_acc'])\n",
    "plt.title('Model accuracy')\n",
    "plt.ylabel('Accuracy')\n",
    "plt.xlabel('Epoch')\n",
    "plt.legend(['Train', 'Test'], loc='upper left')\n",
    "plt.show()\n",
    "\n",
    "plt.plot(history.history['loss'])\n",
    "plt.plot(history.history['val_loss'])\n",
    "plt.title('Model loss')\n",
    "plt.ylabel('Loss')\n",
    "plt.xlabel('Epoch')\n",
    "plt.legend(['Train', 'Test'], loc='upper left')\n",
    "plt.show()"
   ]
  },
  {
   "cell_type": "code",
   "execution_count": 23,
   "metadata": {},
   "outputs": [],
   "source": [
    "predictions = model.predict(new_test)\n",
    "predicted_classes = np.argmax(predictions,axis=1)\n",
    "true_classes = np.argmax(Y_testHot,axis=1)"
   ]
  },
  {
   "cell_type": "code",
   "execution_count": 39,
   "metadata": {},
   "outputs": [
    {
     "data": {
      "text/plain": [
       "<matplotlib.axes._subplots.AxesSubplot at 0x22f7a874358>"
      ]
     },
     "execution_count": 39,
     "metadata": {},
     "output_type": "execute_result"
    },
    {
     "data": {
      "image/png": "[encoded data removed]",
      "text/plain": [
       "<Figure size 432x288 with 2 Axes>"
      ]
     },
     "metadata": {
      "needs_background": "light"
     },
     "output_type": "display_data"
    }
   ],
   "source": [
    "cm = confusion_matrix(true_classes,predicted_classes)\n",
    "sns.heatmap(cm,annot=True,fmt='g')"
   ]
  },
  {
   "cell_type": "markdown",
   "metadata": {},
   "source": [
    "***"
   ]
  }
 ],
 "metadata": {
  "kernelspec": {
   "display_name": "Python 3",
   "language": "python",
   "name": "python3"
  },
  "language_info": {
   "codemirror_mode": {
    "name": "ipython",
    "version": 3
   },
   "file_extension": ".py",
   "mimetype": "text/x-python",
   "name": "python",
   "nbconvert_exporter": "python",
   "pygments_lexer": "ipython3",
   "version": "3.6.7"
  }
 },
 "nbformat": 4,
 "nbformat_minor": 2
}
