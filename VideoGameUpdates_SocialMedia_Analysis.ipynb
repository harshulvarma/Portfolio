{
 "cells": [
  {
   "cell_type": "markdown",
   "metadata": {},
   "source": [
    "# Fortnite Tweets Sentiment Analysis"
   ]
  },
  {
   "cell_type": "markdown",
   "metadata": {},
   "source": [
    "The goal of this notebook is to scrape the tweets containing the keyword 'fortnite' for Fortnite Season 10 (9th Aug 2019 - 10th Oct 2019). After that sentiment for each tweet is assigned. The tweets are then plotted in Tableau and compared to the release of each update for Fortnite Season 10. Since the addition of B.R.U.T.E was controversial, the sentiment for period before and after brute is also analysed along with sentiment for each update. The final Tableau Viz can be viewed here: https://public.tableau.com/profile/harshul.varma#!/vizhome/FortniteSentimentAnalysis/FNTweetsDashboard"
   ]
  },
  {
   "cell_type": "code",
   "execution_count": 1,
   "metadata": {},
   "outputs": [
    {
     "name": "stderr",
     "output_type": "stream",
     "text": [
      "INFO: {'User-Agent': 'Mozilla/5.0 (Windows; U; Windows NT 6.1; rv:2.2) Gecko/20110201'}\n"
     ]
    }
   ],
   "source": [
    "#Loading libraries\n",
    "import pandas as pd\n",
    "import datetime as dt\n",
    "from twitterscraper import query_tweets\n",
    "from vaderSentiment.vaderSentiment import SentimentIntensityAnalyzer\n",
    "import matplotlib.pyplot as plt\n",
    "import seaborn as sns"
   ]
  },
  {
   "cell_type": "code",
   "execution_count": 2,
   "metadata": {},
   "outputs": [],
   "source": [
    "#assinging time period for Fortnite Season 10 tweets to be scraped\n",
    "season10_begindate = dt.date(2019,8,1)\n",
    "season10_enddate = dt.date(2019,10,10)\n",
    "lang = 'english'"
   ]
  },
  {
   "cell_type": "code",
   "execution_count": 3,
   "metadata": {},
   "outputs": [
    {
     "name": "stderr",
     "output_type": "stream",
     "text": [
      "INFO: queries: ['fortnite since:2019-08-01 until:2019-08-04', 'fortnite since:2019-08-04 until:2019-08-08', 'fortnite since:2019-08-08 until:2019-08-11', 'fortnite since:2019-08-11 until:2019-08-15', 'fortnite since:2019-08-15 until:2019-08-18', 'fortnite since:2019-08-18 until:2019-08-22', 'fortnite since:2019-08-22 until:2019-08-25', 'fortnite since:2019-08-25 until:2019-08-29', 'fortnite since:2019-08-29 until:2019-09-01', 'fortnite since:2019-09-01 until:2019-09-05', 'fortnite since:2019-09-05 until:2019-09-08', 'fortnite since:2019-09-08 until:2019-09-12', 'fortnite since:2019-09-12 until:2019-09-15', 'fortnite since:2019-09-15 until:2019-09-19', 'fortnite since:2019-09-19 until:2019-09-22', 'fortnite since:2019-09-22 until:2019-09-26', 'fortnite since:2019-09-26 until:2019-09-29', 'fortnite since:2019-09-29 until:2019-10-03', 'fortnite since:2019-10-03 until:2019-10-06', 'fortnite since:2019-10-06 until:2019-10-10']\n",
      "INFO: Got 115491 tweets (115491 new).\n",
      "INFO: Got 239394 tweets (123903 new).\n",
      "INFO: Got 360337 tweets (120943 new).\n",
      "INFO: Got 489383 tweets (129046 new).\n",
      "INFO: Got 625407 tweets (136024 new).\n",
      "INFO: Got 772354 tweets (146947 new).\n",
      "INFO: Got 911486 tweets (139132 new).\n",
      "INFO: Got 1058069 tweets (146583 new).\n",
      "INFO: Got 1219447 tweets (161378 new).\n",
      "INFO: Got 1391520 tweets (172073 new).\n",
      "INFO: Got 1564304 tweets (172784 new).\n",
      "INFO: Got 1756481 tweets (192177 new).\n",
      "INFO: Got 1958935 tweets (202454 new).\n",
      "INFO: Got 2157678 tweets (198743 new).\n",
      "INFO: Got 2373343 tweets (215665 new).\n",
      "INFO: Got 2595752 tweets (222409 new).\n",
      "INFO: Got 2859210 tweets (263458 new).\n",
      "INFO: Got 3136333 tweets (277123 new).\n",
      "INFO: Got 3459310 tweets (322977 new).\n",
      "INFO: Got 3886640 tweets (427330 new).\n"
     ]
    }
   ],
   "source": [
    "#Scraping the tweets\n",
    "tweets = query_tweets('fortnite',begindate=season10_begindate,enddate=season10_enddate,lang=lang)"
   ]
  },
  {
   "cell_type": "code",
   "execution_count": 4,
   "metadata": {},
   "outputs": [
    {
     "name": "stdout",
     "output_type": "stream",
     "text": [
      "3391021\n"
     ]
    }
   ],
   "source": [
    "#Putting the data in a dataframe and dropping the duplicates to remove spam tweets\n",
    "df_all = pd.DataFrame(t.__dict__ for t in tweets)\n",
    "df_all.drop_duplicates(subset = 'text',inplace = True)\n",
    "print(len(df_all))"
   ]
  },
  {
   "cell_type": "code",
   "execution_count": 5,
   "metadata": {},
   "outputs": [],
   "source": [
    "#Analyzing sentiment for each tweet and assigning a polarity score\n",
    "analyzer = SentimentIntensityAnalyzer()\n",
    "sentiments = df_all['text'].apply(lambda x: analyzer.polarity_scores(x))"
   ]
  },
  {
   "cell_type": "code",
   "execution_count": 12,
   "metadata": {},
   "outputs": [],
   "source": [
    "df_all = pd.concat([df_all, sentiments.apply(pd.Series)],1)"
   ]
  },
  {
   "cell_type": "code",
   "execution_count": 13,
   "metadata": {},
   "outputs": [],
   "source": [
    "#Saving locally\n",
    "df_all.to_csv('D:/Downloads/FNalltweets.csv')"
   ]
  },
  {
   "cell_type": "code",
   "execution_count": 14,
   "metadata": {},
   "outputs": [
    {
     "data": {
      "text/html": [
       "<div>\n",
       "<style scoped>\n",
       "    .dataframe tbody tr th:only-of-type {\n",
       "        vertical-align: middle;\n",
       "    }\n",
       "\n",
       "    .dataframe tbody tr th {\n",
       "        vertical-align: top;\n",
       "    }\n",
       "\n",
       "    .dataframe thead th {\n",
       "        text-align: right;\n",
       "    }\n",
       "</style>\n",
       "<table border=\"1\" class=\"dataframe\">\n",
       "  <thead>\n",
       "    <tr style=\"text-align: right;\">\n",
       "      <th></th>\n",
       "      <th>fullname</th>\n",
       "      <th>html</th>\n",
       "      <th>is_retweet</th>\n",
       "      <th>likes</th>\n",
       "      <th>replies</th>\n",
       "      <th>retweet_id</th>\n",
       "      <th>retweeter_userid</th>\n",
       "      <th>retweeter_username</th>\n",
       "      <th>retweets</th>\n",
       "      <th>text</th>\n",
       "      <th>timestamp</th>\n",
       "      <th>timestamp_epochs</th>\n",
       "      <th>tweet_id</th>\n",
       "      <th>tweet_url</th>\n",
       "      <th>user_id</th>\n",
       "      <th>username</th>\n",
       "      <th>neg</th>\n",
       "      <th>neu</th>\n",
       "      <th>pos</th>\n",
       "      <th>compound</th>\n",
       "    </tr>\n",
       "  </thead>\n",
       "  <tbody>\n",
       "    <tr>\n",
       "      <th>0</th>\n",
       "      <td>Purple People Eater</td>\n",
       "      <td>&lt;p class=\"TweetTextSize js-tweet-text tweet-te...</td>\n",
       "      <td>0</td>\n",
       "      <td>0</td>\n",
       "      <td>0</td>\n",
       "      <td></td>\n",
       "      <td></td>\n",
       "      <td></td>\n",
       "      <td>0</td>\n",
       "      <td>I can't get into Fortnite tho</td>\n",
       "      <td>2019-10-05 23:59:51</td>\n",
       "      <td>1570319991</td>\n",
       "      <td>1180633731381497857</td>\n",
       "      <td>/AyyeYoZay/status/1180633731381497857</td>\n",
       "      <td>122188126</td>\n",
       "      <td>AyyeYoZay</td>\n",
       "      <td>0.000</td>\n",
       "      <td>1.000</td>\n",
       "      <td>0.000</td>\n",
       "      <td>0.0000</td>\n",
       "    </tr>\n",
       "    <tr>\n",
       "      <th>1</th>\n",
       "      <td>Berna</td>\n",
       "      <td>&lt;p class=\"TweetTextSize js-tweet-text tweet-te...</td>\n",
       "      <td>0</td>\n",
       "      <td>1</td>\n",
       "      <td>1</td>\n",
       "      <td></td>\n",
       "      <td></td>\n",
       "      <td></td>\n",
       "      <td>0</td>\n",
       "      <td>i want fps fixed.</td>\n",
       "      <td>2019-10-05 23:59:46</td>\n",
       "      <td>1570319986</td>\n",
       "      <td>1180633711236325380</td>\n",
       "      <td>/SSpookstarr/status/1180633711236325380</td>\n",
       "      <td>992440008555597827</td>\n",
       "      <td>SSpookstarr</td>\n",
       "      <td>0.000</td>\n",
       "      <td>0.606</td>\n",
       "      <td>0.394</td>\n",
       "      <td>0.0772</td>\n",
       "    </tr>\n",
       "    <tr>\n",
       "      <th>2</th>\n",
       "      <td>Just.ironice</td>\n",
       "      <td>&lt;p class=\"TweetTextSize js-tweet-text tweet-te...</td>\n",
       "      <td>0</td>\n",
       "      <td>0</td>\n",
       "      <td>0</td>\n",
       "      <td></td>\n",
       "      <td></td>\n",
       "      <td></td>\n",
       "      <td>0</td>\n",
       "      <td>Check out my broadcast from my PlayStation 4! ...</td>\n",
       "      <td>2019-10-05 23:59:46</td>\n",
       "      <td>1570319986</td>\n",
       "      <td>1180633709990559744</td>\n",
       "      <td>/IroniceJust/status/1180633709990559744</td>\n",
       "      <td>1159702441803300864</td>\n",
       "      <td>IroniceJust</td>\n",
       "      <td>0.000</td>\n",
       "      <td>1.000</td>\n",
       "      <td>0.000</td>\n",
       "      <td>0.0000</td>\n",
       "    </tr>\n",
       "    <tr>\n",
       "      <th>3</th>\n",
       "      <td>Proxuhs</td>\n",
       "      <td>&lt;p class=\"TweetTextSize js-tweet-text tweet-te...</td>\n",
       "      <td>0</td>\n",
       "      <td>0</td>\n",
       "      <td>1</td>\n",
       "      <td></td>\n",
       "      <td></td>\n",
       "      <td></td>\n",
       "      <td>0</td>\n",
       "      <td>@FortniteGame pls magnus pls</td>\n",
       "      <td>2019-10-05 23:59:43</td>\n",
       "      <td>1570319983</td>\n",
       "      <td>1180633696757583873</td>\n",
       "      <td>/Proxuhss/status/1180633696757583873</td>\n",
       "      <td>1084927530753236993</td>\n",
       "      <td>Proxuhss</td>\n",
       "      <td>0.000</td>\n",
       "      <td>0.435</td>\n",
       "      <td>0.565</td>\n",
       "      <td>0.1531</td>\n",
       "    </tr>\n",
       "    <tr>\n",
       "      <th>4</th>\n",
       "      <td>Purple People Eater</td>\n",
       "      <td>&lt;p class=\"TweetTextSize js-tweet-text tweet-te...</td>\n",
       "      <td>0</td>\n",
       "      <td>0</td>\n",
       "      <td>0</td>\n",
       "      <td></td>\n",
       "      <td></td>\n",
       "      <td></td>\n",
       "      <td>0</td>\n",
       "      <td>Ayye oneshotgurl and chicalive are nasty on th...</td>\n",
       "      <td>2019-10-05 23:59:38</td>\n",
       "      <td>1570319978</td>\n",
       "      <td>1180633677690281984</td>\n",
       "      <td>/AyyeYoZay/status/1180633677690281984</td>\n",
       "      <td>122188126</td>\n",
       "      <td>AyyeYoZay</td>\n",
       "      <td>0.286</td>\n",
       "      <td>0.714</td>\n",
       "      <td>0.000</td>\n",
       "      <td>-0.5574</td>\n",
       "    </tr>\n",
       "  </tbody>\n",
       "</table>\n",
       "</div>"
      ],
      "text/plain": [
       "              fullname                                               html  \\\n",
       "0  Purple People Eater  <p class=\"TweetTextSize js-tweet-text tweet-te...   \n",
       "1                Berna  <p class=\"TweetTextSize js-tweet-text tweet-te...   \n",
       "2         Just.ironice  <p class=\"TweetTextSize js-tweet-text tweet-te...   \n",
       "3              Proxuhs  <p class=\"TweetTextSize js-tweet-text tweet-te...   \n",
       "4  Purple People Eater  <p class=\"TweetTextSize js-tweet-text tweet-te...   \n",
       "\n",
       "   is_retweet  likes  replies retweet_id retweeter_userid retweeter_username  \\\n",
       "0           0      0        0                                                  \n",
       "1           0      1        1                                                  \n",
       "2           0      0        0                                                  \n",
       "3           0      0        1                                                  \n",
       "4           0      0        0                                                  \n",
       "\n",
       "   retweets                                               text  \\\n",
       "0         0                      I can't get into Fortnite tho   \n",
       "1         0                                  i want fps fixed.   \n",
       "2         0  Check out my broadcast from my PlayStation 4! ...   \n",
       "3         0                       @FortniteGame pls magnus pls   \n",
       "4         0  Ayye oneshotgurl and chicalive are nasty on th...   \n",
       "\n",
       "            timestamp  timestamp_epochs             tweet_id  \\\n",
       "0 2019-10-05 23:59:51        1570319991  1180633731381497857   \n",
       "1 2019-10-05 23:59:46        1570319986  1180633711236325380   \n",
       "2 2019-10-05 23:59:46        1570319986  1180633709990559744   \n",
       "3 2019-10-05 23:59:43        1570319983  1180633696757583873   \n",
       "4 2019-10-05 23:59:38        1570319978  1180633677690281984   \n",
       "\n",
       "                                 tweet_url              user_id     username  \\\n",
       "0    /AyyeYoZay/status/1180633731381497857            122188126    AyyeYoZay   \n",
       "1  /SSpookstarr/status/1180633711236325380   992440008555597827  SSpookstarr   \n",
       "2  /IroniceJust/status/1180633709990559744  1159702441803300864  IroniceJust   \n",
       "3     /Proxuhss/status/1180633696757583873  1084927530753236993     Proxuhss   \n",
       "4    /AyyeYoZay/status/1180633677690281984            122188126    AyyeYoZay   \n",
       "\n",
       "     neg    neu    pos  compound  \n",
       "0  0.000  1.000  0.000    0.0000  \n",
       "1  0.000  0.606  0.394    0.0772  \n",
       "2  0.000  1.000  0.000    0.0000  \n",
       "3  0.000  0.435  0.565    0.1531  \n",
       "4  0.286  0.714  0.000   -0.5574  "
      ]
     },
     "execution_count": 14,
     "metadata": {},
     "output_type": "execute_result"
    }
   ],
   "source": [
    "df_all.head()"
   ]
  },
  {
   "cell_type": "code",
   "execution_count": 16,
   "metadata": {},
   "outputs": [
    {
     "data": {
      "text/plain": [
       "<matplotlib.axes._subplots.AxesSubplot at 0x226a6922b00>"
      ]
     },
     "execution_count": 16,
     "metadata": {},
     "output_type": "execute_result"
    },
    {
     "data": {
      "image/png": "[encoded data removed]",
      "text/plain": [
       "<Figure size 432x288 with 1 Axes>"
      ]
     },
     "metadata": {
      "needs_background": "light"
     },
     "output_type": "display_data"
    }
   ],
   "source": [
    "#Plotting Histogram\n",
    "df_all['compound'].hist()"
   ]
  },
  {
   "cell_type": "markdown",
   "metadata": {},
   "source": [
    "Looking at the histogram we can see that most of the tweets are neutral, ie have a 0 polarity score. Since I want to capture the polarity in the community, I will remove all the 0 polarity score tweets. Moreover the sentiments score analysis is not yet perfect and cannot sense negativity perfectly at times such as when sarcasm is used in a tweet and often shows it as neutral."
   ]
  },
  {
   "cell_type": "code",
   "execution_count": 17,
   "metadata": {},
   "outputs": [],
   "source": [
    "#removing tweets with 0 polarity score\n",
    "df_all_withoutzeros = df_all[df_all['compound']!=0]"
   ]
  },
  {
   "cell_type": "code",
   "execution_count": 18,
   "metadata": {},
   "outputs": [
    {
     "data": {
      "text/plain": [
       "<matplotlib.axes._subplots.AxesSubplot at 0x226a671ca90>"
      ]
     },
     "execution_count": 18,
     "metadata": {},
     "output_type": "execute_result"
    },
    {
     "data": {
      "image/png": "[encoded data removed]",
      "text/plain": [
       "<Figure size 432x288 with 1 Axes>"
      ]
     },
     "metadata": {
      "needs_background": "light"
     },
     "output_type": "display_data"
    }
   ],
   "source": [
    "#plotting histogram for tweets without neutral tweets\n",
    "df_all_withoutzeros['compound'].hist()"
   ]
  },
  {
   "cell_type": "markdown",
   "metadata": {},
   "source": [
    "We can see the disparity between the positive and negative sentiments from the tweets much better now.  "
   ]
  },
  {
   "cell_type": "markdown",
   "metadata": {},
   "source": [
    "I will also create two dataframes to analyse sentiments for each update and after/before brute nerf"
   ]
  },
  {
   "cell_type": "code",
   "execution_count": 19,
   "metadata": {},
   "outputs": [],
   "source": [
    "#converting timestamp to necessary format\n",
    "df_all['timestamp'] = pd.to_datetime(df_all['timestamp'])\n",
    "df_all[\"timestamp\"] = df_all[\"timestamp\"].astype(\"datetime64\")"
   ]
  },
  {
   "cell_type": "code",
   "execution_count": 20,
   "metadata": {},
   "outputs": [],
   "source": [
    "#Creating bins for timeperiod for each update\n",
    "bins = ['2019-08-01 04:00:00','2019-08-06 04:00:00','2019-08-14 04:00:00','2019-08-20 04:00:00','2019-08-27 04:00:00',\n",
    "        '2019-09-03 04:00:00','2019-09-11 04:00:00','2019-09-18 04:00:00','2019-09-25 04:00:00','2019-10-02 04:00:00',\n",
    "       '2019-10-10 04:00:00']\n",
    "\n",
    "bins = pd.to_datetime(pd.Series(bins))"
   ]
  },
  {
   "cell_type": "code",
   "execution_count": 22,
   "metadata": {},
   "outputs": [],
   "source": [
    "#applying the time period bins to the dataframe and finding mean sentiment for each update \n",
    "groups = df_all.groupby(pd.cut(df_all.timestamp, bins)).agg('mean').reset_index()\n",
    "groups = groups[['timestamp','compound']]"
   ]
  },
  {
   "cell_type": "code",
   "execution_count": 23,
   "metadata": {},
   "outputs": [],
   "source": [
    "#creating column to name updates\n",
    "updates = ['10.0 Update','10.0 Content Update','10.1 Update','10.1 Content Update','10.20 Update',\n",
    "           '10.20 Content Update','10.30 Update','10.31 Update','10.4 Update','10.40.1 Update']\n",
    "\n",
    "groups['Updates'] = updates"
   ]
  },
  {
   "cell_type": "code",
   "execution_count": 24,
   "metadata": {},
   "outputs": [],
   "source": [
    "#saving update analysis\n",
    "groups.to_csv('D:/Downloads/UpdateCompounds.csv')"
   ]
  },
  {
   "cell_type": "code",
   "execution_count": 25,
   "metadata": {},
   "outputs": [],
   "source": [
    "#creating bins timeperiod for before/after brute nerf\n",
    "brute_bins = ['2019-08-01 04:00:00 ','2019-08-22 04:00:00','2019-10-06 04:00:00']\n",
    "\n",
    "brute_bins = pd.to_datetime(pd.Series(brute_bins))"
   ]
  },
  {
   "cell_type": "code",
   "execution_count": 26,
   "metadata": {},
   "outputs": [],
   "source": [
    "#applying the bins to the dataframe and finding mean sentiment for each update\n",
    "brute_sentiments = df_all.groupby(pd.cut(df_all.timestamp, brute_bins)).agg('mean').reset_index()\n",
    "brute_sentiments = brute_sentiments[['timestamp','compound']]\n",
    "brute_sentiments['Timeline'] = ['Before Brute Nerf','After Brute Nerf']"
   ]
  },
  {
   "cell_type": "code",
   "execution_count": 27,
   "metadata": {},
   "outputs": [],
   "source": [
    "#saving the brute analysis\n",
    "brute_sentiments.to_csv('D:/Downloads/BruteSentiments.csv')"
   ]
  },
  {
   "cell_type": "markdown",
   "metadata": {},
   "source": [
    "The Final Tableau Viz can be found here: https://public.tableau.com/profile/harshul.varma#!/vizhome/FortniteSentimentAnalysis/FNTweetsDashboard\n",
    "<br>A screenshot of the analysis is embedded below.\n",
    "<br> ![](\"Images/FN.png\")"
   ]
  },
  {
   "cell_type": "code",
   "execution_count": null,
   "metadata": {},
   "outputs": [],
   "source": []
  }
 ],
 "metadata": {
  "kernelspec": {
   "display_name": "Python 3",
   "language": "python",
   "name": "python3"
  },
  "language_info": {
   "codemirror_mode": {
    "name": "ipython",
    "version": 3
   },
   "file_extension": ".py",
   "mimetype": "text/x-python",
   "name": "python",
   "nbconvert_exporter": "python",
   "pygments_lexer": "ipython3",
   "version": "3.6.7"
  }
 },
 "nbformat": 4,
 "nbformat_minor": 2
}
