{
 "cells": [
  {
   "cell_type": "markdown",
   "metadata": {},
   "source": [
    "# LOYALTY IN SOFTWARE REPOSITORIES OF GITHUB "
   ]
  },
  {
   "cell_type": "markdown",
   "metadata": {},
   "source": [
    "## Introduction"
   ]
  },
  {
   "cell_type": "markdown",
   "metadata": {},
   "source": [
    "This notebook gives an overview of the project describing the techniques and the datasets used to\n",
    "replicate the data preparation for the analysis carried out by the research paper – Loyalty in Online\n",
    "Communities [1]. Further I will explain how the data is prepared for the analysis, for each section of the\n",
    "research paper and will include a test run of the scalable analysis using the above prepared data. This was carried for the course MIE1512 Data Analytics at University of Toronto"
   ]
  },
  {
   "cell_type": "markdown",
   "metadata": {},
   "source": [
    "## Project Overview"
   ]
  },
  {
   "cell_type": "markdown",
   "metadata": {},
   "source": [
    "The goal of the project is to find loyalty in software repositories on GitHub by replicating the analysis\n",
    "carried on the research paper Loyalty in Online Communities. In the research paper the study was\n",
    "conducted on Reddit and loyalty within subreddits, but I will carry the same study in GitHub and\n",
    "repositories.\n",
    "The paper carries out two major analysis – user-user interaction networks and prediction of whether a\n",
    "user will be loyal to a community based on their first comments. In order to replicate the analysis, I will\n",
    "be creating many features and datasets from the database which are expanded on in the next sections\n",
    "of the document. "
   ]
  },
  {
   "cell_type": "markdown",
   "metadata": {},
   "source": [
    "## Data Understanding"
   ]
  },
  {
   "cell_type": "markdown",
   "metadata": {},
   "source": [
    "The data I will use will be obtained from Google BigQuery [2], namely from ‘github_repos’ found in\n",
    "‘bigquery-public-data’. The database consists of 2.9M public open source licensed repositories on\n",
    "GitHub. It consists of data about each commit to those repositories from Mar 2016 – March 2019.\n",
    "Additionally, it also consists of contents, files, languages of the repository and the licenses. Since I do not\n",
    "require the whole database for my analysis, additionally it is computationally and time inefficient to use\n",
    "the whole database, I will be creating a dataset to be used as my main dataset for the analysis. To do so,\n",
    "the data is thoroughly explored first to find the features needed to replicate the analysis. The\n",
    "exploration was carried within Google BigQuery using SQL queries on ‘sample commits’ which are a\n",
    "subset of all the commits data in order to save time and the limited amount of query data we have (1TB\n",
    "per month). The data quality was also kept in mind while collecting the data. Since Google and GitHub\n",
    "are reputable sources, no additional check was carried to check the data quality, but missing data will be\n",
    "dealt with in future sections of the document."
   ]
  },
  {
   "cell_type": "markdown",
   "metadata": {},
   "source": [
    "## Data Preparation"
   ]
  },
  {
   "cell_type": "markdown",
   "metadata": {},
   "source": [
    "All the subsequent data preparations were in accordance to the sections of the research paper. The data\n",
    "was prepared using PySpark SQL and Python code which can be accessed on the attached notebook\n",
    "under the same section headings as this document. All the data preparation was carried out in a way\n",
    "that it is scalable and can be replicated easily. The following sections will describe data preparation and\n",
    "assumptions due to different data sources for all stages of the research paper."
   ]
  },
  {
   "cell_type": "markdown",
   "metadata": {},
   "source": [
    "### Main Dataset Creation and Cleaning"
   ]
  },
  {
   "cell_type": "markdown",
   "metadata": {},
   "source": [
    "As mentioned before a dataset was created from the database which consists of all the features needed\n",
    "to create feature to conduct our analysis. Two BigQueries was made on Google BigQuery in order to\n",
    "make two datasets/tables which were later joined in PySpark. After exploring the dataset and studying\n",
    "the research paper, features needed to for the dataset and the SQL BigQuery used to retrieve the data\n",
    "are as follows:<br><br>\n",
    "Table 1:<br>\n",
    "• Developer/Committer Name – Username of the committer committing to the repository<br>\n",
    "• Repository Committed – Name of the repository committed to<br>\n",
    "• Commit Time – Time at which the commit was made<br>\n",
    "• Watch Count – Watch count of the repositories committed to<br>\n",
    "\n",
    "BigQuery 1: <br>\n",
    "\n",
    "SELECT *<br>\n",
    "FROM<br>\n",
    "( SELECT committer.name as dev, committer.time_sec as time, reponame as name<br>\n",
    "FROM bigquery-public-data.github_repos.commits, UNNEST(repo_name) as reponame<br>\n",
    "GROUP BY dev,time,name<br>\n",
    ") t1<br>\n",
    "JOIN<br>\n",
    "(<br>\n",
    "SELECT repo_name as name_sr, watch_count<br>\n",
    "FROM bigquery-public-data.github_repos.sample_repos<br>\n",
    "ORDER BY watch_count DESC<br>\n",
    "LIMIT 10000<br>\n",
    ") t2<br>\n",
    "ON t1.name = t2.name_sr<br>\n",
    "\n",
    "\n",
    "Table 2:<br>\n",
    "• Repository – All the repositories under consideration<br>\n",
    "• Watch Count – Watch count of the repositories<br>\n",
    "• Language – The programming language used in the repository<br>\n",
    "\n",
    "BigQuery 2: <br>\n",
    "SELECT repo_name as name_l, lang.name as pro_lang<br>\n",
    "FROM bigquery-public-data.github_repos.languages, UNNEST(language) as lang<br>\n",
    "\n",
    "Since watch count is a dynamic number, the watch count in Google BigQuery reflects the number of\n",
    "watchers on the repositories in the Jan-May2016. Although not ideal, this was an important feature as\n",
    "Google BigQuery has a limit on the amount of free query data that can be retrieved (1TB) and stored\n",
    "(1GB on Google Drive) not all repositories and commits were considered. To make a fair criterion, only\n",
    "repositories which were in top 10,000 repositories by descending order of watch count were selected as seen below"
   ]
  },
  {
   "cell_type": "code",
   "execution_count": 1,
   "metadata": {},
   "outputs": [],
   "source": [
    "#Importing Libraries\n",
    "\n",
    "import os\n",
    "os.environ[\"HADOOP_HOME\"] = \"S:/Courses/MIE1512/Material/Spark/winutils/\"\n",
    "os.environ[\"JAVA_HOME\"] = \"C:/progra~2/Java/jdk1.8.0_221/\"\n",
    "os.environ[\"JRE_HOME\"] = \"C:/progra~2/Java/jdk1.8.0_221/jre/\"\n",
    "\n",
    "import findspark\n",
    "findspark.init(\"S:/Courses/MIE1512/Material/Spark/spark-2.3.2-bin-hadoop2.7/\")\n",
    "\n",
    "import pyspark\n",
    "sc = pyspark.SparkContext(appName=\"myAppName\")\n",
    "spark = pyspark.sql.SQLContext(sc)\n",
    "\n",
    "import pyspark.sql.types as T \n",
    "import pyspark.sql.functions as F\n",
    "import seaborn as sns\n",
    "sns.set(style=\"darkgrid\")\n",
    "import matplotlib.pyplot as plt\n",
    "\n",
    "import matplotlib\n",
    "%matplotlib inline \n",
    "\n",
    "import networkx as nx\n",
    "\n",
    "from pyspark.ml.classification import RandomForestClassifier\n",
    "from pyspark.ml.evaluation import BinaryClassificationEvaluator\n",
    "from pyspark.ml.feature import VectorAssembler, StringIndexer\n",
    "from pyspark.ml import Pipeline\n",
    "\n",
    "import pandas as pd"
   ]
  },
  {
   "cell_type": "code",
   "execution_count": 2,
   "metadata": {},
   "outputs": [],
   "source": [
    "## Files can be downloaded from the following links:\n",
    "Table1_url = 'https://drive.google.com/uc?export=download&id=1aJCAsrixii14ydvuG6Ogl2Xvn2NGyiGR'\n",
    "Table2_url = 'https://drive.google.com/uc?export=download&id=1PKgg3CvrKYZwUeaupNjoQStsZ_lwWOje'\n",
    "# Please download from the link if needed, as the files are large - 700MB and 200MB\n",
    "#Copy and paste the file link above and move the downloaded files to the same folder as this jupyter notebook"
   ]
  },
  {
   "cell_type": "code",
   "execution_count": 3,
   "metadata": {},
   "outputs": [],
   "source": [
    "table1 = spark.read.csv(\"Table1.csv\",\n",
    "                           header=True,\n",
    "                           inferSchema=True,\n",
    "                       )"
   ]
  },
  {
   "cell_type": "code",
   "execution_count": 4,
   "metadata": {},
   "outputs": [
    {
     "name": "stdout",
     "output_type": "stream",
     "text": [
      "root\n",
      " |-- dev: string (nullable = true)\n",
      " |-- time: integer (nullable = true)\n",
      " |-- name: string (nullable = true)\n",
      " |-- name_sr: string (nullable = true)\n",
      " |-- watch_count: integer (nullable = true)\n",
      "\n"
     ]
    }
   ],
   "source": [
    "table1.printSchema()"
   ]
  },
  {
   "cell_type": "code",
   "execution_count": 5,
   "metadata": {},
   "outputs": [],
   "source": [
    "table2 = spark.read.csv(\"Table2.csv\",\n",
    "                           header=True,\n",
    "                           inferSchema=True,\n",
    "                       )"
   ]
  },
  {
   "cell_type": "code",
   "execution_count": 6,
   "metadata": {},
   "outputs": [
    {
     "name": "stdout",
     "output_type": "stream",
     "text": [
      "root\n",
      " |-- name_l: string (nullable = true)\n",
      " |-- pro_lang: string (nullable = true)\n",
      "\n"
     ]
    }
   ],
   "source": [
    "table2.printSchema()"
   ]
  },
  {
   "cell_type": "code",
   "execution_count": 7,
   "metadata": {},
   "outputs": [],
   "source": [
    "table1.registerTempTable(\"table1\")\n",
    "table2.registerTempTable(\"table2\")"
   ]
  },
  {
   "cell_type": "code",
   "execution_count": 8,
   "metadata": {},
   "outputs": [],
   "source": [
    "#joining both tables\n",
    "df = spark.sql(\"\"\"\n",
    "SELECT dev, CAST(time as TIMESTAMP), name, watch_count, pro_lang\n",
    "FROM table1\n",
    "JOIN table2 ON table1.name = table2.name_l\n",
    "\"\"\")\n",
    "df.registerTempTable(\"df\")"
   ]
  },
  {
   "cell_type": "code",
   "execution_count": 9,
   "metadata": {},
   "outputs": [
    {
     "data": {
      "text/plain": [
       "DataFrame[dev: string, time: timestamp, name: string, watch_count: int, pro_lang: string]"
      ]
     },
     "execution_count": 9,
     "metadata": {},
     "output_type": "execute_result"
    }
   ],
   "source": [
    "#dropping na values\n",
    "df.na.drop()"
   ]
  },
  {
   "cell_type": "code",
   "execution_count": 11,
   "metadata": {},
   "outputs": [
    {
     "data": {
      "text/html": [
       "<div>\n",
       "<style scoped>\n",
       "    .dataframe tbody tr th:only-of-type {\n",
       "        vertical-align: middle;\n",
       "    }\n",
       "\n",
       "    .dataframe tbody tr th {\n",
       "        vertical-align: top;\n",
       "    }\n",
       "\n",
       "    .dataframe thead th {\n",
       "        text-align: right;\n",
       "    }\n",
       "</style>\n",
       "<table border=\"1\" class=\"dataframe\">\n",
       "  <thead>\n",
       "    <tr style=\"text-align: right;\">\n",
       "      <th></th>\n",
       "      <th>dev</th>\n",
       "      <th>time</th>\n",
       "      <th>name</th>\n",
       "      <th>watch_count</th>\n",
       "      <th>pro_lang</th>\n",
       "    </tr>\n",
       "  </thead>\n",
       "  <tbody>\n",
       "    <tr>\n",
       "      <th>0</th>\n",
       "      <td>AigeStudio's Mac</td>\n",
       "      <td>2016-07-03 04:18:15</td>\n",
       "      <td>AigeStudio/WheelPicker</td>\n",
       "      <td>249</td>\n",
       "      <td>Java</td>\n",
       "    </tr>\n",
       "    <tr>\n",
       "      <th>1</th>\n",
       "      <td>GitHub</td>\n",
       "      <td>2016-07-12 20:59:32</td>\n",
       "      <td>AigeStudio/WheelPicker</td>\n",
       "      <td>249</td>\n",
       "      <td>Java</td>\n",
       "    </tr>\n",
       "    <tr>\n",
       "      <th>2</th>\n",
       "      <td>AigeStudio</td>\n",
       "      <td>2016-07-08 06:14:04</td>\n",
       "      <td>AigeStudio/WheelPicker</td>\n",
       "      <td>249</td>\n",
       "      <td>Java</td>\n",
       "    </tr>\n",
       "    <tr>\n",
       "      <th>3</th>\n",
       "      <td>GitHub</td>\n",
       "      <td>2016-07-11 23:28:43</td>\n",
       "      <td>AigeStudio/WheelPicker</td>\n",
       "      <td>249</td>\n",
       "      <td>Java</td>\n",
       "    </tr>\n",
       "    <tr>\n",
       "      <th>4</th>\n",
       "      <td>GitHub</td>\n",
       "      <td>2019-06-13 03:05:19</td>\n",
       "      <td>AigeStudio/WheelPicker</td>\n",
       "      <td>249</td>\n",
       "      <td>Java</td>\n",
       "    </tr>\n",
       "  </tbody>\n",
       "</table>\n",
       "</div>"
      ],
      "text/plain": [
       "                dev                time                    name  watch_count  \\\n",
       "0  AigeStudio's Mac 2016-07-03 04:18:15  AigeStudio/WheelPicker          249   \n",
       "1            GitHub 2016-07-12 20:59:32  AigeStudio/WheelPicker          249   \n",
       "2        AigeStudio 2016-07-08 06:14:04  AigeStudio/WheelPicker          249   \n",
       "3            GitHub 2016-07-11 23:28:43  AigeStudio/WheelPicker          249   \n",
       "4            GitHub 2019-06-13 03:05:19  AigeStudio/WheelPicker          249   \n",
       "\n",
       "  pro_lang  \n",
       "0     Java  \n",
       "1     Java  \n",
       "2     Java  \n",
       "3     Java  \n",
       "4     Java  "
      ]
     },
     "execution_count": 11,
     "metadata": {},
     "output_type": "execute_result"
    }
   ],
   "source": [
    "df.limit(5).toPandas()"
   ]
  },
  {
   "cell_type": "code",
   "execution_count": 19,
   "metadata": {},
   "outputs": [
    {
     "name": "stdout",
     "output_type": "stream",
     "text": [
      "+-----------------+\n",
      "|number_of_commits|\n",
      "+-----------------+\n",
      "|        106910088|\n",
      "+-----------------+\n",
      "\n"
     ]
    }
   ],
   "source": [
    "#calculating number of commits \n",
    "spark.sql(\"\"\"\n",
    "SELECT COUNT(*) as number_of_commits\n",
    "FROM df\n",
    "\"\"\").show()"
   ]
  },
  {
   "cell_type": "code",
   "execution_count": 20,
   "metadata": {},
   "outputs": [
    {
     "name": "stdout",
     "output_type": "stream",
     "text": [
      "+--------------+\n",
      "|number_of_devs|\n",
      "+--------------+\n",
      "|        195253|\n",
      "+--------------+\n",
      "\n"
     ]
    }
   ],
   "source": [
    "#calculating number of devs\n",
    "spark.sql(\"\"\"\n",
    "SELECT COUNT(DISTINCT(dev)) as number_of_devs\n",
    "FROM df\n",
    "\"\"\").show()"
   ]
  },
  {
   "cell_type": "code",
   "execution_count": 23,
   "metadata": {},
   "outputs": [
    {
     "name": "stdout",
     "output_type": "stream",
     "text": [
      "+---------------+\n",
      "|number_of_repos|\n",
      "+---------------+\n",
      "|           5822|\n",
      "+---------------+\n",
      "\n"
     ]
    }
   ],
   "source": [
    "#calculating number of repos\n",
    "spark.sql(\"\"\"\n",
    "SELECT COUNT(DISTINCT(name)) as number_of_repos\n",
    "FROM df\n",
    "\"\"\").show()"
   ]
  },
  {
   "cell_type": "markdown",
   "metadata": {},
   "source": [
    "df is the main dataset I will be using throughout the project. It consists of developer name, time of commit, name of repository commited to, watch count of that repository and the programming language used. Additionally our data set consists of 106,910,088 rows, that is total number of commits being used for the project. It has 195,253 unique developers and 5,822 unique repositories. I will be using the entire dataset for the project and will not be sampling the data since I want to retain maximum information provided by our dataset"
   ]
  },
  {
   "cell_type": "markdown",
   "metadata": {},
   "source": [
    "### Operationalizing Loyalty "
   ]
  },
  {
   "cell_type": "markdown",
   "metadata": {},
   "source": [
    "The first two sections of the research paper introduce the paper and present related work. The third\n",
    "section of the paper operationalizes loyalty. In section 3.1 the paper defines loyalty as preference and\n",
    "commitment towards a community and loyal user sustains preference and commitment to a community\n",
    "over time. Section 3.2 defines loyalty on Reddit based on commenting behaviour. <br>\n",
    "The research paper defines loyalty as a preference and commitment towards a community and a loyal user as a user that sustains that preference and commitment towards a community over time. Loyalty on Reddit was a direct extension of a users’ commenting behaviour. In my research loyalty is defined through committing behaviour. A loyal developer is defined as a developer X that commits to a repository A in month t if 100% of his commits that X made are to A in order to show reference. Similarly, an unloyal or a vagrant developer is developer whose commit percentage was not 100% for a month. A commit percentage of 100% was chosen as opposed to 50% comments in the paper because as seen below in the histogram, the stark difference between all commits per month for one repository vs less than 100% commit to one repository.<br>\n",
    "Additionally, the research paper defines loyal user as a user who stay loyal to a subreddit at time ‘t’ and\n",
    "‘t+1’. This was not used in my research since most developers work towards a repository only for a few\n",
    "months or even less."
   ]
  },
  {
   "cell_type": "code",
   "execution_count": 10,
   "metadata": {},
   "outputs": [],
   "source": [
    "#calculating number of commits per month towards a repo by each dev\n",
    "#Adding percentage of commits to a certain repo by each dev and\n",
    "loyal = spark.sql(\"\"\"\n",
    "SELECT dev, YEAR(time) as year, MONTH(time) as month, name, COUNT(*) as num_commits, COUNT(*)*100.0/SUM(COUNT(*)) OVER(partition by MONTH(time),YEAR(time),dev) as percentage_commits\n",
    "FROM df\n",
    "GROUP BY dev, name, year, month\n",
    "ORDER BY dev DESC\n",
    "\"\"\")\n",
    "loyal.registerTempTable(\"loyal\")"
   ]
  },
  {
   "cell_type": "code",
   "execution_count": 46,
   "metadata": {},
   "outputs": [],
   "source": [
    "percentage_commit_histogram = spark.sql(\"\"\"\n",
    "SELECT CEIL(percentage_commits/5) as bins, COUNT(*) as count\n",
    "FROM loyal\n",
    "GROUP BY bins\n",
    "ORDER BY bins\n",
    "\"\"\").toPandas()"
   ]
  },
  {
   "cell_type": "code",
   "execution_count": 47,
   "metadata": {},
   "outputs": [],
   "source": [
    "percentage_commit_range = ['0-5','5-10','10-15','15-20','20-25','25-30','30-35','35-40','40-45','45-50',\n",
    "                          '50-55','55-60','60-65','65-70','70-75','75-80','80-85','85-90','90-95','95-100']\n",
    "\n",
    "percentage_commit_histogram['percentage_commit_range'] = percentage_commit_range"
   ]
  },
  {
   "cell_type": "code",
   "execution_count": 49,
   "metadata": {},
   "outputs": [
    {
     "data": {
      "image/png": "[encoded data removed]",
      "text/plain": [
       "<Figure size 1080x540 with 1 Axes>"
      ]
     },
     "metadata": {
      "needs_background": "light"
     },
     "output_type": "display_data"
    }
   ],
   "source": [
    "plt.figure(figsize = (15,7.5))\n",
    "sns.barplot(x='percentage_commit_range',y='count',data=percentage_commit_histogram,color='red',alpha=0.8)\n",
    "plt.title('Histogram of Percentage commits')\n",
    "plt.ylabel('Number of developers')\n",
    "plt.xlabel('Percentage Commit Range')\n",
    "plt.show()"
   ]
  },
  {
   "cell_type": "code",
   "execution_count": 11,
   "metadata": {},
   "outputs": [],
   "source": [
    "#Labelling developers loyal if all the commits were to one repo for each month\n",
    "loyal = loyal.withColumn(\n",
    "    'loyalty',\n",
    "    F.when((F.col(\"percentage_commits\") == 100) & (F.col(\"num_commits\") > 3), 'loyal')\\\n",
    "    .when((F.col('percentage_commits') < 100),'vagrant')\\\n",
    "    .when((F.col('percentage_commits') == 100) & (F.col('num_commits') <= 3),'vagrant')\n",
    ")"
   ]
  },
  {
   "cell_type": "code",
   "execution_count": 12,
   "metadata": {},
   "outputs": [],
   "source": [
    "loyal.registerTempTable(\"loyal\")"
   ]
  },
  {
   "cell_type": "code",
   "execution_count": 16,
   "metadata": {},
   "outputs": [
    {
     "data": {
      "text/html": [
       "<div>\n",
       "<style scoped>\n",
       "    .dataframe tbody tr th:only-of-type {\n",
       "        vertical-align: middle;\n",
       "    }\n",
       "\n",
       "    .dataframe tbody tr th {\n",
       "        vertical-align: top;\n",
       "    }\n",
       "\n",
       "    .dataframe thead th {\n",
       "        text-align: right;\n",
       "    }\n",
       "</style>\n",
       "<table border=\"1\" class=\"dataframe\">\n",
       "  <thead>\n",
       "    <tr style=\"text-align: right;\">\n",
       "      <th></th>\n",
       "      <th>dev</th>\n",
       "      <th>year</th>\n",
       "      <th>month</th>\n",
       "      <th>name</th>\n",
       "      <th>num_commits</th>\n",
       "      <th>percentage_commits</th>\n",
       "      <th>loyalty</th>\n",
       "    </tr>\n",
       "  </thead>\n",
       "  <tbody>\n",
       "    <tr>\n",
       "      <th>0</th>\n",
       "      <td>🦊Tomoya Hirano</td>\n",
       "      <td>2019</td>\n",
       "      <td>3</td>\n",
       "      <td>apple/swift-corelibs-foundation</td>\n",
       "      <td>27</td>\n",
       "      <td>100.00000000000000</td>\n",
       "      <td>loyal</td>\n",
       "    </tr>\n",
       "    <tr>\n",
       "      <th>1</th>\n",
       "      <td>💩</td>\n",
       "      <td>2015</td>\n",
       "      <td>4</td>\n",
       "      <td>hashicorp/vault</td>\n",
       "      <td>9</td>\n",
       "      <td>100.00000000000000</td>\n",
       "      <td>loyal</td>\n",
       "    </tr>\n",
       "    <tr>\n",
       "      <th>2</th>\n",
       "      <td>👨🏼‍💻 Romain Marcadier-Muller</td>\n",
       "      <td>2019</td>\n",
       "      <td>1</td>\n",
       "      <td>Microsoft/vscode</td>\n",
       "      <td>33</td>\n",
       "      <td>100.00000000000000</td>\n",
       "      <td>loyal</td>\n",
       "    </tr>\n",
       "    <tr>\n",
       "      <th>3</th>\n",
       "      <td>🐈</td>\n",
       "      <td>2019</td>\n",
       "      <td>2</td>\n",
       "      <td>bhilburn/powerlevel9k</td>\n",
       "      <td>3</td>\n",
       "      <td>100.00000000000000</td>\n",
       "      <td>vagrant</td>\n",
       "    </tr>\n",
       "    <tr>\n",
       "      <th>4</th>\n",
       "      <td>ＪＯＨＮ　ＶＵ</td>\n",
       "      <td>2014</td>\n",
       "      <td>4</td>\n",
       "      <td>cocos2d/cocos2d-objc</td>\n",
       "      <td>25</td>\n",
       "      <td>100.00000000000000</td>\n",
       "      <td>loyal</td>\n",
       "    </tr>\n",
       "  </tbody>\n",
       "</table>\n",
       "</div>"
      ],
      "text/plain": [
       "                            dev  year  month                             name  \\\n",
       "0                🦊Tomoya Hirano  2019      3  apple/swift-corelibs-foundation   \n",
       "1                             💩  2015      4                  hashicorp/vault   \n",
       "2  👨🏼‍💻 Romain Marcadier-Muller  2019      1                 Microsoft/vscode   \n",
       "3                             🐈  2019      2            bhilburn/powerlevel9k   \n",
       "4                       ＪＯＨＮ　ＶＵ  2014      4             cocos2d/cocos2d-objc   \n",
       "\n",
       "   num_commits  percentage_commits  loyalty  \n",
       "0           27  100.00000000000000    loyal  \n",
       "1            9  100.00000000000000    loyal  \n",
       "2           33  100.00000000000000    loyal  \n",
       "3            3  100.00000000000000  vagrant  \n",
       "4           25  100.00000000000000    loyal  "
      ]
     },
     "execution_count": 16,
     "metadata": {},
     "output_type": "execute_result"
    }
   ],
   "source": [
    "loyal.limit(5).toPandas()"
   ]
  },
  {
   "cell_type": "markdown",
   "metadata": {},
   "source": [
    "The study then restricted its analysis to subreddits with at least 25 loyal and 25 vagrant user per month. To take a similar approach for my analysis, I computed the mean number of loyal and vagrant users as which came to about 2.69 loyal developers and 1.6 vagrant developers, the repositories that I used for my analysis had at least 3 loyal developers and at least 1 vagrant developer as that yielded me the similar number of repositories as the number of subreddits considered in the research which is about 2836 repositories in my case. Additionally, due to the nature of GitHub vs Reddit, there were much higher number of loyal developers than vagrant developers whereas in the study there were much higher number of vagrant users."
   ]
  },
  {
   "cell_type": "code",
   "execution_count": 17,
   "metadata": {},
   "outputs": [
    {
     "name": "stdout",
     "output_type": "stream",
     "text": [
      "+------------------+------------------+\n",
      "|   avg(loyal_devs)| avg(vagrant_devs)|\n",
      "+------------------+------------------+\n",
      "|2.6868544796304774|1.6054263243310725|\n",
      "+------------------+------------------+\n",
      "\n"
     ]
    }
   ],
   "source": [
    "#Average number of loyal and vagrant devs\n",
    "spark.sql(\"\"\"\n",
    "SELECT AVG(loyal_devs), AVG(vagrant_devs)\n",
    "FROM\n",
    "(\n",
    "SELECT name, year, month,\n",
    "COUNT(CASE WHEN loyalty = \"loyal\" THEN 1 END) loyal_devs,\n",
    "COUNT(CASE WHEN loyalty = \"vagrant\" THEN 1 END) vagrant_devs\n",
    "FROM loyal\n",
    "GROUP BY name, year, month\n",
    ")\n",
    "\"\"\").show()"
   ]
  },
  {
   "cell_type": "code",
   "execution_count": 13,
   "metadata": {},
   "outputs": [],
   "source": [
    "#Getting repos where loyal devs are greater than 3 and vagrant are more than 1 for our analysis\n",
    "repos = spark.sql(\"\"\"\n",
    "SELECT DISTINCT(name)\n",
    "FROM\n",
    "(\n",
    "SELECT *\n",
    "FROM\n",
    "(\n",
    "SELECT * \n",
    "FROM\n",
    "(\n",
    "SELECT name, year, month,\n",
    "COUNT(CASE WHEN loyalty = \"loyal\" THEN 1 END) loyal_devs,\n",
    "COUNT(CASE WHEN loyalty = \"vagrant\" THEN 1 END) vagrant_devs\n",
    "FROM loyal\n",
    "GROUP BY name, year, month\n",
    ")\n",
    "WHERE loyal_devs >= 3\n",
    ")\n",
    "WHERE vagrant_devs >= 1\n",
    ")\n",
    "\"\"\")\n",
    "repos.registerTempTable(\"repos\")"
   ]
  },
  {
   "cell_type": "code",
   "execution_count": 79,
   "metadata": {},
   "outputs": [
    {
     "name": "stdout",
     "output_type": "stream",
     "text": [
      "+--------+\n",
      "|no_repos|\n",
      "+--------+\n",
      "|    2836|\n",
      "+--------+\n",
      "\n"
     ]
    }
   ],
   "source": [
    "#Number of distinct repos in consideration\n",
    "spark.sql(\"\"\"\n",
    "SELECT count(distinct(name)) as no_repos\n",
    "FROM repos\n",
    "\"\"\").show()"
   ]
  },
  {
   "cell_type": "code",
   "execution_count": 14,
   "metadata": {},
   "outputs": [],
   "source": [
    "#Getting only repos that meet the above criterion\n",
    "loyal_new = spark.sql(\"\"\"\n",
    "SELECT dev,year,month,name as repo_name,num_commits,percentage_commits, loyalty\n",
    "FROM loyal\n",
    "WHERE name IN\n",
    "( SELECT * FROM repos)\n",
    "ORDER BY dev DESC\n",
    "\"\"\")\n",
    "loyal_new.registerTempTable(\"loyal_new\")"
   ]
  },
  {
   "cell_type": "markdown",
   "metadata": {},
   "source": [
    "Further, loyal community is defined in the paper as a community that retains loyal users’ month after\n",
    "month. The study analyzes all communities with at least 25 loyal users which results in 1440\n",
    "communities and order the commmunities based on loyalty rate for each community which is defined as proportion of users who prefer community A at time t and sustain the preference at time t+1. Loyal communities are then denotes as top 25% of the distribution and un loyal communities as bottom 25% of the distribution.<br>\n",
    "For my research project,as seen above, I end up with 2836 repositories. In order to find loyal and unloyal repos, I first find the loyalty rate of the repositories. We can see below that loyalty rate for repositories can be zero since repositories don't necessarily have commit each month which can lead to innacurate assumption of whether a repository is loyal or not. Therefore loyalty rate is ommited from my project and inplace I will use loyalty to vagrant ratio for each repo.<br>\n",
    "I calculate average loyal to vagrant ratio for each repo and then I pick the top 25% of those repos as loyal repos and the bottom 25% as unloyal repos."
   ]
  },
  {
   "cell_type": "code",
   "execution_count": 18,
   "metadata": {},
   "outputs": [
    {
     "name": "stdout",
     "output_type": "stream",
     "text": [
      "+--------------------+-------------------+\n",
      "|           repo_name|   avg_loyalty_rate|\n",
      "+--------------------+-------------------+\n",
      "|   dgibbs64/linuxgsm| 27.507591743119264|\n",
      "|      hashicorp/serf| -20.34913333333333|\n",
      "|   reactjs/React.NET| 0.4596206896551723|\n",
      "|fantasyland/fanta...|           -47.5575|\n",
      "|      mozilla/tofino|  64.09181818181818|\n",
      "|   QuantConnect/Lean| 16.406258278145696|\n",
      "|atomicobject/obje...|-10.305496183206106|\n",
      "|        randym/axlsx| -36.27197368421053|\n",
      "|       Gazler/githug|   77.3741791044776|\n",
      "|shwenzhang/AndRes...|  9.081338582677164|\n",
      "|   jenkinsci/jenkins|   42.9129552390641|\n",
      "|     skizzehq/skizze| -4.166666666666667|\n",
      "|apache/incubator-...|  32.89890829694323|\n",
      "|dyve/django-boots...|-13.985198019801981|\n",
      "|     angular/angular|  38.56970588235294|\n",
      "|        tomaka/glium| -40.65538461538462|\n",
      "| broccolijs/broccoli|-16.535157894736844|\n",
      "|aksonov/react-nat...|              -17.5|\n",
      "| chrisaljoudi/uBlock| -9.880833333333333|\n",
      "|         needim/noty|         -49.609375|\n",
      "+--------------------+-------------------+\n",
      "only showing top 20 rows\n",
      "\n"
     ]
    }
   ],
   "source": [
    "#Adding loyalty rate for each repo\n",
    "spark.sql(\"\"\"\n",
    "\n",
    "\n",
    "SELECT repo_name, AVG(loyalty_rate) as avg_loyalty_rate\n",
    "FROM\n",
    "(\n",
    "SELECT t1.repo_name, t1.year, t1.month, ROUND(((t2.loyal_devs-t1.loyal_devs)/t1.loyal_devs)*100,2)  as loyalty_rate\n",
    "FROM\n",
    "(\n",
    "SELECT repo_name, year, month,\n",
    "COUNT(CASE WHEN loyalty = \"loyal\" THEN 1 END) loyal_devs,\n",
    "COUNT(CASE WHEN loyalty = \"vagrant\" THEN 1 END) vagrant_devs\n",
    "FROM loyal_new\n",
    "GROUP BY repo_name, year, month\n",
    ")t1\n",
    "INNER JOIN\n",
    "(\n",
    "SELECT repo_name, year, month,\n",
    "COUNT(CASE WHEN loyalty = \"loyal\" THEN 1 END) loyal_devs,\n",
    "COUNT(CASE WHEN loyalty = \"vagrant\" THEN 1 END) vagrant_devs\n",
    "FROM loyal_new\n",
    "GROUP BY repo_name, year, month\n",
    ")t2\n",
    "ON t1.repo_name = t2.repo_name \n",
    "AND t1.month + 1 = t2.month\n",
    ")\n",
    "GROUP BY repo_name\n",
    "\n",
    "\"\"\").show()"
   ]
  },
  {
   "cell_type": "code",
   "execution_count": 21,
   "metadata": {},
   "outputs": [
    {
     "name": "stdout",
     "output_type": "stream",
     "text": [
      "+--------------------+-------------------+\n",
      "|           repo_name|  avg_loyalty_ratio|\n",
      "+--------------------+-------------------+\n",
      "|   jenkinsci/jenkins| 0.9309646700110524|\n",
      "|   dgibbs64/linuxgsm| 0.5753092145949288|\n",
      "|   QuantConnect/Lean| 0.8231235695521408|\n",
      "|shwenzhang/AndRes...| 0.8434959349593496|\n",
      "|atomicobject/obje...| 0.7318518518518518|\n",
      "|   reactjs/React.NET| 0.5967661691542289|\n",
      "|fantasyland/fanta...|0.26320754716981126|\n",
      "|dyve/django-boots...| 0.3822404371584699|\n",
      "|apache/incubator-...| 0.8581978537335679|\n",
      "|      hashicorp/serf|0.18569624819624816|\n",
      "|     skizzehq/skizze|              0.705|\n",
      "|        randym/axlsx|0.20830853174603178|\n",
      "|       Gazler/githug| 0.6088815789473685|\n",
      "|     angular/angular| 0.7446682035557575|\n",
      "|      mozilla/tofino| 0.8536796536796539|\n",
      "|           grpc/grpc| 0.8915760340868597|\n",
      "|    mesonbuild/meson| 0.9016070892491347|\n",
      "| broccolijs/broccoli| 0.4824712643678161|\n",
      "|         magit/magit| 0.5721759520672566|\n",
      "|         needim/noty|0.27736318407960203|\n",
      "+--------------------+-------------------+\n",
      "only showing top 20 rows\n",
      "\n"
     ]
    }
   ],
   "source": [
    "#Computing Avg loyalty ratios for each repository\n",
    "\n",
    "spark.sql(\"\"\"\n",
    "\n",
    "SELECT repo_name, AVG(loyalty_ratio) as avg_loyalty_ratio\n",
    "FROM\n",
    "(\n",
    "SELECT repo_name, year, month,\n",
    "COUNT(CASE WHEN loyalty = \"loyal\" THEN 1 END)/COUNT(*) as loyalty_ratio\n",
    "FROM loyal_new\n",
    "GROUP BY repo_name, year, month\n",
    ")\n",
    "GROUP BY repo_name\n",
    "\n",
    "\"\"\").show()"
   ]
  },
  {
   "cell_type": "code",
   "execution_count": 18,
   "metadata": {},
   "outputs": [],
   "source": [
    "#Retrieving Top 25% repositories when arranged by avg loyalty ratio as loyal repos\n",
    "loyal_repos = spark.sql(\"\"\"\n",
    "SELECT repo_name as repo_name, avg_loyalty_ratio\n",
    "FROM\n",
    "(\n",
    "SELECT repo_name, avg_loyalty_ratio, NTILE(4) OVER (ORDER BY avg_loyalty_ratio DESC) ntile_ratio\n",
    "FROM\n",
    "(\n",
    "SELECT repo_name, AVG(loyalty_ratio) as avg_loyalty_ratio\n",
    "FROM\n",
    "(\n",
    "SELECT repo_name, year, month,\n",
    "(COUNT(CASE WHEN loyalty = \"loyal\" THEN 1 END)/COUNT(*)) as loyalty_ratio\n",
    "FROM loyal_new\n",
    "GROUP BY repo_name, year, month\n",
    ")\n",
    "GROUP BY repo_name\n",
    ")\n",
    ")\n",
    "WHERE ntile_ratio = 1\n",
    "\"\"\")\n",
    "\n",
    "loyal_repos.registerTempTable('loyal_repos')"
   ]
  },
  {
   "cell_type": "code",
   "execution_count": 19,
   "metadata": {},
   "outputs": [],
   "source": [
    "#Retrieving Bottom 25% repositories when arranged by avg loyalty ratio as loyal repos\n",
    "unloyal_repos = spark.sql(\"\"\"\n",
    "SELECT repo_name as repo_name, avg_loyalty_ratio\n",
    "FROM\n",
    "(\n",
    "SELECT repo_name, avg_loyalty_ratio, NTILE(4) OVER (ORDER BY avg_loyalty_ratio DESC) ntile_ratio\n",
    "FROM\n",
    "(\n",
    "SELECT repo_name, AVG(loyalty_ratio) as avg_loyalty_ratio\n",
    "FROM\n",
    "(\n",
    "SELECT repo_name, year, month,\n",
    "(COUNT(CASE WHEN loyalty = \"loyal\" THEN 1 END)/COUNT(*)) as loyalty_ratio\n",
    "FROM loyal_new\n",
    "GROUP BY repo_name, year, month\n",
    ")\n",
    "GROUP BY repo_name\n",
    ")\n",
    ")\n",
    "WHERE ntile_ratio = 4\n",
    "\"\"\")\n",
    "\n",
    "unloyal_repos.registerTempTable('unloyal_repos')"
   ]
  },
  {
   "cell_type": "code",
   "execution_count": 20,
   "metadata": {},
   "outputs": [
    {
     "name": "stdout",
     "output_type": "stream",
     "text": [
      "+---------+\n",
      "|num_repos|\n",
      "+---------+\n",
      "|      709|\n",
      "+---------+\n",
      "\n"
     ]
    }
   ],
   "source": [
    "spark.sql(\"\"\"\n",
    "SELECT COUNT(DISTINCT(repo_name)) as num_repos\n",
    "FROM loyal_repos\n",
    "\"\"\").show()"
   ]
  },
  {
   "cell_type": "markdown",
   "metadata": {},
   "source": [
    "### Community Level Loyalty "
   ]
  },
  {
   "cell_type": "markdown",
   "metadata": {},
   "source": [
    "In this section, analysis was done on communities i.e., repositories that foster high loyalty as we described using loyalty to vagrant ratio. This analysis aims to answer the question whether certain repositories have structural features that foster loyal users."
   ]
  },
  {
   "cell_type": "markdown",
   "metadata": {},
   "source": [
    "#### Basic Features of Loyal Communities "
   ]
  },
  {
   "cell_type": "markdown",
   "metadata": {},
   "source": [
    "Firstly, basic features of loyal communities are assessed such as size of the community, growth rate for the community and thread length for the subreddit. In case of this project the size of the repository i.e., average number of developers in the loyal vs un loyal repositories, average loyalty ratios for both and number of commits per month for each repository are compared as well. It was found that average number of developers are 1.6 times more for loyal than unloyal repositories. Additionally, Loyalty ratio is much higher in loyal repositories which is expected since that was the criteria to choose our loyal vs unloyal repositories. Lastly, average number of commits per month for loyal repos seems to be much higher than that of unloyal repos (3.2 times) and thus suggests that it is a strong predictor of a loyal repositories and can be used as a feature to predict loyalty in section 5.3."
   ]
  },
  {
   "cell_type": "code",
   "execution_count": 24,
   "metadata": {},
   "outputs": [
    {
     "name": "stdout",
     "output_type": "stream",
     "text": [
      "+---------------------------+\n",
      "|average_devs_in_loyal_repos|\n",
      "+---------------------------+\n",
      "|         131.86600846262343|\n",
      "+---------------------------+\n",
      "\n"
     ]
    }
   ],
   "source": [
    "#Calculating average number of devs for loyal repos\n",
    "spark.sql(\"\"\"\n",
    "SELECT AVG(number_of_devs) as average_devs_in_loyal_repos\n",
    "FROM\n",
    "(\n",
    "SELECT repo_name, COUNT(DISTINCT(dev)) as number_of_devs\n",
    "FROM\n",
    "(\n",
    "SELECT dev, t1.repo_name as repo_name, year, month, num_commits,percentage_commits, loyalty\n",
    "FROM loyal_repos t1\n",
    "JOIN loyal_new t2\n",
    "ON t1.repo_name = t2.repo_name\n",
    ")\n",
    "GROUP BY repo_name\n",
    "ORDER BY number_of_devs DESC\n",
    ")\n",
    "\"\"\").show()"
   ]
  },
  {
   "cell_type": "code",
   "execution_count": 25,
   "metadata": {},
   "outputs": [
    {
     "name": "stdout",
     "output_type": "stream",
     "text": [
      "+---------------------------+\n",
      "|average_devs_in_loyal_repos|\n",
      "+---------------------------+\n",
      "|          82.34132581100141|\n",
      "+---------------------------+\n",
      "\n"
     ]
    }
   ],
   "source": [
    "#Calculating average number of devs for unloyal repos\n",
    "spark.sql(\"\"\"\n",
    "SELECT AVG(number_of_devs) as average_devs_in_loyal_repos\n",
    "FROM\n",
    "(\n",
    "SELECT repo_name, COUNT(DISTINCT(dev)) as number_of_devs\n",
    "FROM\n",
    "(\n",
    "SELECT dev, t1.repo_name as repo_name, year, month, num_commits,percentage_commits, loyalty\n",
    "FROM unloyal_repos t1\n",
    "JOIN loyal_new t2\n",
    "ON t1.repo_name = t2.repo_name\n",
    ")\n",
    "GROUP BY repo_name\n",
    "ORDER BY number_of_devs DESC\n",
    ")\n",
    "\"\"\").show()"
   ]
  },
  {
   "cell_type": "code",
   "execution_count": 26,
   "metadata": {},
   "outputs": [
    {
     "name": "stdout",
     "output_type": "stream",
     "text": [
      "+-------------------------------+\n",
      "|average_loyaltyratio_loyalrepos|\n",
      "+-------------------------------+\n",
      "|             0.8770550922617407|\n",
      "+-------------------------------+\n",
      "\n"
     ]
    }
   ],
   "source": [
    "#Average loyalty ratios for loyal repos\n",
    "spark.sql(\"\"\"\n",
    "SELECT AVG(avg_loyalty_ratio) as average_loyaltyratio_loyalrepos\n",
    "FROM loyal_repos\n",
    "\"\"\").show()"
   ]
  },
  {
   "cell_type": "code",
   "execution_count": 27,
   "metadata": {},
   "outputs": [
    {
     "name": "stdout",
     "output_type": "stream",
     "text": [
      "+---------------------------------+\n",
      "|average_loyaltyratio_unloyalrepos|\n",
      "+---------------------------------+\n",
      "|              0.24932602949649035|\n",
      "+---------------------------------+\n",
      "\n"
     ]
    }
   ],
   "source": [
    "#Average loyalty ratios for unloyal repos\n",
    "spark.sql(\"\"\"\n",
    "SELECT AVG(avg_loyalty_ratio) as average_loyaltyratio_unloyalrepos\n",
    "FROM unloyal_repos\n",
    "\"\"\").show()"
   ]
  },
  {
   "cell_type": "code",
   "execution_count": 28,
   "metadata": {},
   "outputs": [
    {
     "name": "stdout",
     "output_type": "stream",
     "text": [
      "+------------------------------------+\n",
      "|average_commits_per_month_loyalrepos|\n",
      "+------------------------------------+\n",
      "|                   180.4692621051222|\n",
      "+------------------------------------+\n",
      "\n"
     ]
    }
   ],
   "source": [
    "# average number of commits per month for loyal repos\n",
    "spark.sql(\"\"\"\n",
    "\n",
    "SELECT AVG(num_commits) as average_commits_per_month_loyalrepos\n",
    "FROM\n",
    "(\n",
    "SELECT dev, t1.repo_name as repo_name, year, month, num_commits,percentage_commits, loyalty\n",
    "FROM loyal_repos t1\n",
    "JOIN loyal_new t2\n",
    "ON t1.repo_name = t2.repo_name\n",
    ")\n",
    "\n",
    "\"\"\").show()"
   ]
  },
  {
   "cell_type": "code",
   "execution_count": 29,
   "metadata": {},
   "outputs": [
    {
     "name": "stdout",
     "output_type": "stream",
     "text": [
      "+--------------------------------------+\n",
      "|average_commits_per_month_unloyalrepos|\n",
      "+--------------------------------------+\n",
      "|                     56.55770536320434|\n",
      "+--------------------------------------+\n",
      "\n"
     ]
    }
   ],
   "source": [
    "# average number of commits per month for unloyal repos\n",
    "spark.sql(\"\"\"\n",
    "\n",
    "SELECT AVG(num_commits) as average_commits_per_month_unloyalrepos\n",
    "FROM\n",
    "(\n",
    "SELECT dev, t1.repo_name as repo_name, year, month, num_commits,percentage_commits, loyalty\n",
    "FROM unloyal_repos t1\n",
    "JOIN loyal_new t2\n",
    "ON t1.repo_name = t2.repo_name\n",
    ")\n",
    "\n",
    "\"\"\").show()"
   ]
  },
  {
   "cell_type": "markdown",
   "metadata": {},
   "source": [
    "#### Topics of loyal communities"
   ]
  },
  {
   "cell_type": "markdown",
   "metadata": {},
   "source": [
    "The research paper then looks at the subreddit names for the loyal vs unloyal communities in order to find topics that attract loyal users. For my project I compared the programming languages for the loyal and unloyal repositories and the results can be seen in Figure (iii). It seems that unloyal repositories prefer JavaScript which is often a language user learn to get started in coding and that could mean they commit to projects using JavaScript on GitHub but only few sustain committing to those projects. Additionally, Shell script is a very old language and hence has a loyal user base and thus the repositories in Shell could retain higher number of loyal users."
   ]
  },
  {
   "cell_type": "code",
   "execution_count": 26,
   "metadata": {},
   "outputs": [],
   "source": [
    "#Language for loyal repos\n",
    "prolang_loyal = spark.sql(\"\"\"\n",
    "SELECT pro_lang, COUNT(DISTINCT(repo_name)) as num_of_repos_loyal\n",
    "FROM\n",
    "(\n",
    "SELECT name as repo_name, pro_lang\n",
    "FROM df\n",
    "WHERE name IN\n",
    "( SELECT repo_name\n",
    "FROM loyal_repos\n",
    ")\n",
    "\n",
    ")\n",
    "GROUP BY pro_lang\n",
    "ORDER BY num_of_repos_loyal DESC\n",
    "LIMIT 10\n",
    "\"\"\")\n",
    "prolang_loyal.registerTempTable(\"prolang_loyal\")"
   ]
  },
  {
   "cell_type": "code",
   "execution_count": 27,
   "metadata": {},
   "outputs": [],
   "source": [
    "#Language for unloyal repos\n",
    "prolang_unloyal = spark.sql(\"\"\"\n",
    "SELECT pro_lang, COUNT(DISTINCT(repo_name)) as num_of_repos_unloyal\n",
    "FROM\n",
    "(\n",
    "\n",
    "SELECT name as repo_name, pro_lang\n",
    "FROM df\n",
    "WHERE name IN\n",
    "( SELECT repo_name\n",
    "FROM unloyal_repos\n",
    ")\n",
    "\n",
    ")\n",
    "GROUP BY pro_lang\n",
    "ORDER BY num_of_repos_unloyal DESC\n",
    "LIMIT 10\n",
    "\"\"\")\n",
    "prolang_unloyal.registerTempTable('prolang_unloyal')"
   ]
  },
  {
   "cell_type": "code",
   "execution_count": 28,
   "metadata": {},
   "outputs": [],
   "source": [
    "#Joining both\n",
    "pro_lang = spark.sql(\"\"\"\n",
    "SELECT t1.pro_lang, num_of_repos_loyal,num_of_repos_unloyal\n",
    "FROM prolang_loyal t1\n",
    "JOIN prolang_unloyal t2\n",
    "ON t1.pro_lang = t2.pro_lang\n",
    "\"\"\").toPandas()"
   ]
  },
  {
   "cell_type": "code",
   "execution_count": 29,
   "metadata": {},
   "outputs": [
    {
     "data": {
      "text/html": [
       "<div>\n",
       "<style scoped>\n",
       "    .dataframe tbody tr th:only-of-type {\n",
       "        vertical-align: middle;\n",
       "    }\n",
       "\n",
       "    .dataframe tbody tr th {\n",
       "        vertical-align: top;\n",
       "    }\n",
       "\n",
       "    .dataframe thead th {\n",
       "        text-align: right;\n",
       "    }\n",
       "</style>\n",
       "<table border=\"1\" class=\"dataframe\">\n",
       "  <thead>\n",
       "    <tr style=\"text-align: right;\">\n",
       "      <th></th>\n",
       "      <th>pro_lang</th>\n",
       "      <th>num_of_repos_loyal</th>\n",
       "      <th>num_of_repos_unloyal</th>\n",
       "    </tr>\n",
       "  </thead>\n",
       "  <tbody>\n",
       "    <tr>\n",
       "      <th>0</th>\n",
       "      <td>Shell</td>\n",
       "      <td>538</td>\n",
       "      <td>205</td>\n",
       "    </tr>\n",
       "    <tr>\n",
       "      <th>1</th>\n",
       "      <td>HTML</td>\n",
       "      <td>438</td>\n",
       "      <td>213</td>\n",
       "    </tr>\n",
       "    <tr>\n",
       "      <th>2</th>\n",
       "      <td>JavaScript</td>\n",
       "      <td>415</td>\n",
       "      <td>308</td>\n",
       "    </tr>\n",
       "    <tr>\n",
       "      <th>3</th>\n",
       "      <td>CSS</td>\n",
       "      <td>389</td>\n",
       "      <td>157</td>\n",
       "    </tr>\n",
       "    <tr>\n",
       "      <th>4</th>\n",
       "      <td>Python</td>\n",
       "      <td>313</td>\n",
       "      <td>90</td>\n",
       "    </tr>\n",
       "  </tbody>\n",
       "</table>\n",
       "</div>"
      ],
      "text/plain": [
       "     pro_lang  num_of_repos_loyal  num_of_repos_unloyal\n",
       "0       Shell                 538                   205\n",
       "1        HTML                 438                   213\n",
       "2  JavaScript                 415                   308\n",
       "3         CSS                 389                   157\n",
       "4      Python                 313                    90"
      ]
     },
     "execution_count": 29,
     "metadata": {},
     "output_type": "execute_result"
    }
   ],
   "source": [
    "pro_lang.head()"
   ]
  },
  {
   "cell_type": "code",
   "execution_count": 30,
   "metadata": {},
   "outputs": [],
   "source": [
    "pro_lang.columns = ['Programming Language','loyal','unloyal']"
   ]
  },
  {
   "cell_type": "code",
   "execution_count": 31,
   "metadata": {},
   "outputs": [],
   "source": [
    "pro_lang_2 = pd.melt(pro_lang, id_vars=['Programming Language'], value_vars=['loyal', 'unloyal'])\n"
   ]
  },
  {
   "cell_type": "code",
   "execution_count": 32,
   "metadata": {},
   "outputs": [],
   "source": [
    "pro_lang_2.columns = ['Programming Language','Kind of Repo','Number of Repos']"
   ]
  },
  {
   "cell_type": "code",
   "execution_count": 45,
   "metadata": {
    "scrolled": false
   },
   "outputs": [
    {
     "data": {
      "image/png": "[encoded data removed]",
      "text/plain": [
       "<Figure size 578.6x504 with 1 Axes>"
      ]
     },
     "metadata": {
      "needs_background": "light"
     },
     "output_type": "display_data"
    }
   ],
   "source": [
    "sns.catplot(x='Programming Language', y='Number of Repos', hue='Kind of Repo', data=pro_lang_2, kind='bar',height=7, aspect=1,palette=sns.color_palette(['red', 'maroon']),alpha=0.7)\n",
    "plt.title('Popular Programming Language for loyal and unloyal repositories')\n",
    "plt.show()"
   ]
  },
  {
   "cell_type": "markdown",
   "metadata": {},
   "source": [
    "#### Loyalty in interaction networks "
   ]
  },
  {
   "cell_type": "markdown",
   "metadata": {},
   "source": [
    "Finally, in the research paper, for each type on community, monthly interaction networks were constructed where a user is connected if they comment in the same linear comment chain within three comments of each others. The loyal and unloyal networks of a first-person shooter video game were then analysed based on network properties.\n",
    "For my project I connected developers if they committed to same repository for a particular month since they probably interacted with each other or each other's work during that period, which was the rational behind the connection in the research paper as well.\n",
    "Next a loyal network and unloyal network was developed based on the average loyalty ratio described in section 3.0 where the loyalty network was formed using the repository that had the highest average loyalty ratio of 0.99 (drupal/drupal) and unloyal network had the lowest of 0.02 (Microsoft/TypeScript). The networks were formed using the NetworkX library in Python and were then visualised as seen in the visualisation below and the density, average clustering and assortativity of the networks were also calculated. The loyal network has higher density than unloyal network suggesting that developers in loyal repositories are more connected to each other. Unloyal network had slightly higher average clustering suggesting that unloyal repositories have many clusters within them while loyal networks have less core clusters. Additionally, not much significant difference between assortativity was observed. The results can be seen in the plots below. <br>\n",
    "\n",
    "Next, the study also creates a linear mixed model to regress community’s loyalty rate in order to prove that community structure i.e., the networks created above are a good predictor of the loyalty rate. While interesting, it was left out of my project since it is not in the scope of my project because loyalty rate is not used. Additionally, a similar prediction task is carried in section 5.2 of the report using features from section 4.0"
   ]
  },
  {
   "cell_type": "code",
   "execution_count": 21,
   "metadata": {},
   "outputs": [],
   "source": [
    "#Table with only loyal repos and the corresponding data\n",
    "loyal_only = spark.sql(\"\"\"\n",
    "SELECT dev, t1.repo_name as repo_name, year, month, num_commits,percentage_commits, loyalty\n",
    "FROM loyal_repos t1\n",
    "JOIN loyal_new t2\n",
    "ON t1.repo_name = t2.repo_name\n",
    "\"\"\")\n",
    "loyal_only.registerTempTable(\"loyal_only\")"
   ]
  },
  {
   "cell_type": "code",
   "execution_count": 22,
   "metadata": {},
   "outputs": [],
   "source": [
    "#Table with only unloyal repos and the corresponding data\n",
    "unloyal_only = spark.sql(\"\"\"\n",
    "SELECT dev, t1.repo_name as repo_name, year, month, num_commits,percentage_commits, loyalty\n",
    "FROM unloyal_repos t1\n",
    "JOIN loyal_new t2\n",
    "ON t1.repo_name = t2.repo_name\n",
    "\"\"\")\n",
    "unloyal_only.registerTempTable(\"unloyal_only\")"
   ]
  },
  {
   "cell_type": "code",
   "execution_count": 21,
   "metadata": {},
   "outputs": [],
   "source": [
    "#Forming interaction graphs table for all loyal repos\n",
    "loyal_graph = spark.sql(\"\"\"\n",
    "\n",
    "SELECT *\n",
    "FROM\n",
    "(\n",
    "SELECT t1.dev as dev1, t2.dev as dev2, t1.name as repo_name\n",
    "FROM\n",
    "(\n",
    "SELECT dev, year, month, name\n",
    "FROM loyal\n",
    "WHERE name IN\n",
    "(\n",
    "SELECT DISTINCT(repo_name)\n",
    "FROM loyal_repos\n",
    ")\n",
    ") t1\n",
    "JOIN\n",
    "(\n",
    "SELECT dev, year, month, name\n",
    "FROM loyal\n",
    "WHERE name IN\n",
    "(\n",
    "SELECT DISTINCT(repo_name)\n",
    "FROM loyal_repos\n",
    ")\n",
    ") t2\n",
    "ON t1.name = t2.name AND t1.year = t2.year AND t1.month = t2.month\n",
    ")\n",
    "WHERE dev1 <> dev2\n",
    "\n",
    "\"\"\")\n",
    "loyal_graph.registerTempTable(\"loyal_graph\")"
   ]
  },
  {
   "cell_type": "code",
   "execution_count": 22,
   "metadata": {},
   "outputs": [],
   "source": [
    "#Creating interaction table for loyal repo with highest loyalty ratio\n",
    "most_loyal_graph = spark.sql(\"\"\"\n",
    "SELECT dev1,dev2\n",
    "FROM loyal_graph\n",
    "WHERE repo_name IN\n",
    "(\n",
    "SELECT repo_name\n",
    "FROM loyal_repos\n",
    "ORDER BY avg_loyalty_ratio DESC\n",
    "LIMIT 1\n",
    ")\n",
    "\"\"\")\n",
    "most_loyal_graph.registerTempTable(\"most_loyal_graph\")"
   ]
  },
  {
   "cell_type": "code",
   "execution_count": 48,
   "metadata": {},
   "outputs": [
    {
     "name": "stdout",
     "output_type": "stream",
     "text": [
      "+-------------+-----------------+\n",
      "|    repo_name|avg_loyalty_ratio|\n",
      "+-------------+-----------------+\n",
      "|drupal/drupal| 0.99624662091911|\n",
      "+-------------+-----------------+\n",
      "\n"
     ]
    }
   ],
   "source": [
    "#Repo used for loyal network\n",
    "spark.sql(\"\"\"\n",
    "\n",
    "SELECT *\n",
    "FROM loyal_repos\n",
    "ORDER BY avg_loyalty_ratio DESC\n",
    "LIMIT 1\n",
    "\n",
    "\"\"\").show()"
   ]
  },
  {
   "cell_type": "code",
   "execution_count": 49,
   "metadata": {},
   "outputs": [],
   "source": [
    "#Forming interaction graphs table for all unloyal repos\n",
    "unloyal_graph = spark.sql(\"\"\"\n",
    "SELECT *\n",
    "FROM\n",
    "(\n",
    "SELECT t1.dev as dev1, t2.dev as dev2, t1.name as repo_name\n",
    "FROM\n",
    "(\n",
    "SELECT dev, year, month, name\n",
    "FROM loyal\n",
    "WHERE name IN\n",
    "(\n",
    "SELECT DISTINCT(repo_name)\n",
    "FROM unloyal_repos\n",
    ")\n",
    ") t1\n",
    "JOIN\n",
    "(\n",
    "SELECT dev, year, month, name\n",
    "FROM loyal\n",
    "WHERE name IN\n",
    "(\n",
    "SELECT DISTINCT(repo_name)\n",
    "FROM unloyal_repos\n",
    ")\n",
    ") t2\n",
    "ON t1.name = t2.name AND t1.year = t2.year AND t1.month = t2.month\n",
    ")\n",
    "WHERE dev1 <> dev2\n",
    "\n",
    "\"\"\")\n",
    "unloyal_graph.registerTempTable(\"unloyal_graph\")"
   ]
  },
  {
   "cell_type": "code",
   "execution_count": 50,
   "metadata": {},
   "outputs": [],
   "source": [
    "#Creating interaction table for unloyal repo with lowest loyalty ratio\n",
    "most_unloyal_graph = spark.sql(\"\"\"\n",
    "SELECT dev1,dev2\n",
    "FROM unloyal_graph\n",
    "WHERE repo_name IN\n",
    "(\n",
    "SELECT repo_name\n",
    "FROM unloyal_repos\n",
    "ORDER BY avg_loyalty_ratio ASC\n",
    "LIMIT 1\n",
    ")\n",
    "\"\"\")\n",
    "most_unloyal_graph.registerTempTable(\"most_unloyal_graph\")"
   ]
  },
  {
   "cell_type": "code",
   "execution_count": 51,
   "metadata": {},
   "outputs": [
    {
     "name": "stdout",
     "output_type": "stream",
     "text": [
      "+--------------------+-------------------+\n",
      "|           repo_name|  avg_loyalty_ratio|\n",
      "+--------------------+-------------------+\n",
      "|Microsoft/TypeScr...|0.02712045264676844|\n",
      "+--------------------+-------------------+\n",
      "\n"
     ]
    }
   ],
   "source": [
    "#Repo used for unloyal network\n",
    "spark.sql(\"\"\"\n",
    "\n",
    "SELECT *\n",
    "FROM unloyal_repos\n",
    "ORDER BY avg_loyalty_ratio ASC\n",
    "LIMIT 1\n",
    "\n",
    "\"\"\").show()"
   ]
  },
  {
   "cell_type": "code",
   "execution_count": 26,
   "metadata": {},
   "outputs": [],
   "source": [
    "#Loyal Network\n",
    "most_loyal_graph = most_loyal_graph.toPandas()\n",
    "\n",
    "#Unloyal network\n",
    "most_unloyal_graph = most_unloyal_graph.toPandas()"
   ]
  },
  {
   "cell_type": "code",
   "execution_count": 76,
   "metadata": {},
   "outputs": [],
   "source": [
    "loyal_g =nx.from_pandas_edgelist(most_loyal_graph, 'dev1', 'dev2')\n",
    "loyal_network_properties = {}\n",
    "loyal_network_properties['density']=nx.density(loyal_g)\n",
    "loyal_network_properties['clustering']=nx.average_clustering(loyal_g)\n",
    "loyal_network_properties['assortativity']=nx.degree_assortativity_coefficient(loyal_g)\n",
    "loyal_network_properties['network']='loyal'\n",
    "\n",
    "loyal_network_properties_df = pd.DataFrame([loyal_network_properties], columns=loyal_network_properties.keys())"
   ]
  },
  {
   "cell_type": "code",
   "execution_count": 77,
   "metadata": {},
   "outputs": [],
   "source": [
    "unloyal_g =nx.from_pandas_edgelist(most_unloyal_graph, 'dev1', 'dev2')\n",
    "unloyal_network_properties = {}\n",
    "unloyal_network_properties['density']=nx.density(unloyal_g)\n",
    "unloyal_network_properties['clustering']=nx.average_clustering(unloyal_g)\n",
    "unloyal_network_properties['assortativity']=nx.degree_assortativity_coefficient(unloyal_g)\n",
    "unloyal_network_properties['network']='unloyal'\n",
    "\n",
    "unloyal_network_properties_df = pd.DataFrame([unloyal_network_properties], columns=unloyal_network_properties.keys())"
   ]
  },
  {
   "cell_type": "code",
   "execution_count": 89,
   "metadata": {},
   "outputs": [
    {
     "data": {
      "text/html": [
       "<div>\n",
       "<style scoped>\n",
       "    .dataframe tbody tr th:only-of-type {\n",
       "        vertical-align: middle;\n",
       "    }\n",
       "\n",
       "    .dataframe tbody tr th {\n",
       "        vertical-align: top;\n",
       "    }\n",
       "\n",
       "    .dataframe thead th {\n",
       "        text-align: right;\n",
       "    }\n",
       "</style>\n",
       "<table border=\"1\" class=\"dataframe\">\n",
       "  <thead>\n",
       "    <tr style=\"text-align: right;\">\n",
       "      <th></th>\n",
       "      <th>density</th>\n",
       "      <th>clustering</th>\n",
       "      <th>assortativity</th>\n",
       "      <th>network</th>\n",
       "    </tr>\n",
       "  </thead>\n",
       "  <tbody>\n",
       "    <tr>\n",
       "      <th>0</th>\n",
       "      <td>0.218045</td>\n",
       "      <td>0.807300</td>\n",
       "      <td>-0.229975</td>\n",
       "      <td>loyal</td>\n",
       "    </tr>\n",
       "    <tr>\n",
       "      <th>0</th>\n",
       "      <td>0.054673</td>\n",
       "      <td>0.945688</td>\n",
       "      <td>-0.277113</td>\n",
       "      <td>unloyal</td>\n",
       "    </tr>\n",
       "  </tbody>\n",
       "</table>\n",
       "</div>"
      ],
      "text/plain": [
       "    density  clustering  assortativity  network\n",
       "0  0.218045    0.807300      -0.229975    loyal\n",
       "0  0.054673    0.945688      -0.277113  unloyal"
      ]
     },
     "execution_count": 89,
     "metadata": {},
     "output_type": "execute_result"
    }
   ],
   "source": [
    "network_properties_df = pd.concat([loyal_network_properties_df,unloyal_network_properties_df])\n",
    "network_properties_df.head()"
   ]
  },
  {
   "cell_type": "code",
   "execution_count": 138,
   "metadata": {},
   "outputs": [
    {
     "name": "stderr",
     "output_type": "stream",
     "text": [
      "C:\\ProgramData\\Anaconda3\\lib\\site-packages\\networkx\\drawing\\nx_pylab.py:611: MatplotlibDeprecationWarning: isinstance(..., numbers.Number)\n",
      "  if cb.is_numlike(alpha):\n",
      "C:\\ProgramData\\Anaconda3\\lib\\site-packages\\networkx\\drawing\\nx_pylab.py:611: MatplotlibDeprecationWarning: isinstance(..., numbers.Number)\n",
      "  if cb.is_numlike(alpha):\n"
     ]
    },
    {
     "data": {
      "image/png": "[encoded data removed]",
      "text/plain": [
       "<Figure size 1080x540 with 2 Axes>"
      ]
     },
     "metadata": {},
     "output_type": "display_data"
    }
   ],
   "source": [
    "fig, axes = plt.subplots(1,2,figsize=(15,7.5))\n",
    "ax = axes.flatten()\n",
    "\n",
    "nx.draw(loyal_g, node_size = 10, width = 0.1,ax=ax[0])\n",
    "nx.draw(unloyal_g, node_size = 10, width = 0.1, ax=ax[1])\n",
    "ax[0].set_title('Repository with highest loyalty ratio')\n",
    "ax[1].set_title('Repository with lowest loyalty ratio')\n",
    "plt.suptitle(\"Interaction Networks\")\n",
    "plt.show()\n"
   ]
  },
  {
   "cell_type": "code",
   "execution_count": 141,
   "metadata": {},
   "outputs": [
    {
     "data": {
      "text/plain": [
       "Text(0.51, 1.05, 'Network Properties')"
      ]
     },
     "execution_count": 141,
     "metadata": {},
     "output_type": "execute_result"
    },
    {
     "data": {
      "image/png": "[encoded data removed]",
      "text/plain": [
       "<Figure size 1080x216 with 3 Axes>"
      ]
     },
     "metadata": {},
     "output_type": "display_data"
    }
   ],
   "source": [
    "fig, axes = plt.subplots(1,3,figsize=(15,3))\n",
    "ax = axes.flatten()\n",
    "sns.pointplot(x=\"network\", y=\"density\", data=network_properties_df,color='grey', ax=ax[0])\n",
    "ax[0].set_title('Density')\n",
    "ax[0].set_ylim(0,1)\n",
    "sns.pointplot(x=\"network\", y=\"clustering\", data=network_properties_df,color='grey', ax=ax[1])\n",
    "ax[1].set_title('Average Clustering')\n",
    "ax[1].set_ylim(0,1)\n",
    "sns.pointplot(x=\"network\", y=\"assortativity\", data=network_properties_df,color='grey',ax=ax[2])\n",
    "ax[2].set_title('Assortativity')\n",
    "ax[2].set_ylim(-1,0)\n",
    "plt.suptitle(\"Network Properties\", y=1.05,x=0.51)"
   ]
  },
  {
   "cell_type": "markdown",
   "metadata": {},
   "source": [
    "### User-level Loyalty "
   ]
  },
  {
   "cell_type": "markdown",
   "metadata": {},
   "source": [
    "In order to asses user level loyalty, 100 random loyal and vagrant users were selected in the study, and analysis was conducted on post selection, linguistic style of comments and a prediction model was also built. For my research I created a feature - 'dev loyalty ratio' which will tell whether a developer has been loyal throughout his committing journey on GitHub if the average ratio is 1, else when ratio is closer to 0 it suggests more vagrant user. It is calculated as the ratio of the months the developer has been loyal to all the months, he/she has been active on GitHub. I pick the top 100 of this distribution ordered by descending order of ratio as loyal developers and bottom 100 as vagrant developers."
   ]
  },
  {
   "cell_type": "code",
   "execution_count": 23,
   "metadata": {},
   "outputs": [],
   "source": [
    "# selecting loyal devs\n",
    "loyal_devs = spark.sql(\"\"\"\n",
    "SELECT dev, AVG(dev_loyalty_ratio) as avg_loyalty_ratio\n",
    "FROM\n",
    "(\n",
    "SELECT dev, year, month,\n",
    "COUNT(CASE WHEN loyalty = \"loyal\" THEN 1 END)/COUNT(*) as dev_loyalty_ratio\n",
    "FROM loyal_new\n",
    "GROUP BY dev, year, month\n",
    ")\n",
    "GROUP BY dev\n",
    "ORDER BY avg_loyalty_ratio DESC\n",
    "LIMIT 100\n",
    "\"\"\")\n",
    "loyal_devs.registerTempTable(\"loyal_devs\")"
   ]
  },
  {
   "cell_type": "code",
   "execution_count": 24,
   "metadata": {},
   "outputs": [],
   "source": [
    "# selecting loyal devs\n",
    "unloyal_devs = spark.sql(\"\"\"\n",
    "SELECT dev, AVG(dev_loyalty_ratio) as avg_loyalty_ratio\n",
    "FROM\n",
    "(\n",
    "SELECT dev, year, month,\n",
    "COUNT(CASE WHEN loyalty = \"loyal\" THEN 1 END)/COUNT(*) as dev_loyalty_ratio\n",
    "FROM loyal_new\n",
    "GROUP BY dev, year, month\n",
    ")\n",
    "GROUP BY dev\n",
    "ORDER BY avg_loyalty_ratio ASC\n",
    "LIMIT 100\n",
    "\"\"\")\n",
    "unloyal_devs.registerTempTable(\"unloyal_devs\")"
   ]
  },
  {
   "cell_type": "markdown",
   "metadata": {},
   "source": [
    "#### Post Selection"
   ]
  },
  {
   "cell_type": "markdown",
   "metadata": {},
   "source": [
    "In the research paper posts that loyal and vagrant users select to comment on are looked at by firstly post popularity. In my project I calculated at the average watch count of repos that loyal and unloyal developers commit to and it was found that loyal developers tend to commit to repositories with higher watch count. <br>\n",
    "Additionally, the research also looked at the linguistic style of the posts the different users comment on to assess the content preference for loyal and vagrant developers. The linguistic information available on GitHub is mostly commit message and the code itself, which didn’t contribute much to the analysis that was carried and therefore was not included in the project.\n"
   ]
  },
  {
   "cell_type": "code",
   "execution_count": 25,
   "metadata": {},
   "outputs": [
    {
     "name": "stdout",
     "output_type": "stream",
     "text": [
      "+--------------------------------------+\n",
      "|average_watchcount_for_repos_loyaldevs|\n",
      "+--------------------------------------+\n",
      "|                     730.4951065054692|\n",
      "+--------------------------------------+\n",
      "\n"
     ]
    }
   ],
   "source": [
    "#Average watch count for loyal devs\n",
    "spark.sql(\"\"\"\n",
    "SELECT AVG(watch_count) as average_watchcount_for_repos_loyaldevs\n",
    "from df\n",
    "WHERE dev IN\n",
    "(\n",
    "SELECT dev\n",
    "FROM loyal_devs\n",
    ")\n",
    "\"\"\").show()"
   ]
  },
  {
   "cell_type": "code",
   "execution_count": 31,
   "metadata": {},
   "outputs": [
    {
     "name": "stdout",
     "output_type": "stream",
     "text": [
      "+----------------------------------------+\n",
      "|average_watchcount_for_repos_unloyaldevs|\n",
      "+----------------------------------------+\n",
      "|                      460.03237410071944|\n",
      "+----------------------------------------+\n",
      "\n"
     ]
    }
   ],
   "source": [
    "#Average watch count for unloyal devs\n",
    "spark.sql(\"\"\"\n",
    "SELECT AVG(watch_count) as average_watchcount_for_repos_unloyaldevs\n",
    "from df\n",
    "WHERE dev IN\n",
    "(\n",
    "SELECT dev\n",
    "FROM unloyal_devs\n",
    ")\n",
    "\"\"\").show()"
   ]
  },
  {
   "cell_type": "markdown",
   "metadata": {},
   "source": [
    "####  Style of Comments "
   ]
  },
  {
   "cell_type": "markdown",
   "metadata": {},
   "source": [
    "Next the linguistic style of comments the loyal and vagrant users' write was also compared.\n",
    "Although since linguistic style of commit did not provide much information in case of GitHub, in order to understand the ‘commit style’ and to capture the commit patterns, new features were created using research papers that analysed GitHub repositories for other research purposes. [3] Average days between one commit to a repository for a loyal and vagrant developer selected with the same criteria as mentioned in introduction of section 5.0 was calculated. It was found that the loyal developers seem to commit more often that unloyal developers with average days between loyal developers being 5.93 whereas for unloyal developers it was found to be 8.47 days.\n"
   ]
  },
  {
   "cell_type": "code",
   "execution_count": 23,
   "metadata": {},
   "outputs": [],
   "source": [
    "#retriving commit time for each commit for loyal devs\n",
    "loyal_freq = spark.sql(\"\"\"\n",
    "\n",
    "SELECT dev, name, time\n",
    "FROM df\n",
    "WHERE dev IN\n",
    "(\n",
    "SELECT dev\n",
    "FROM loyal_devs\n",
    ")\n",
    "GROUP BY dev, name, time\n",
    "ORDER BY dev, name, time\n",
    "\n",
    "\"\"\")\n",
    "loyal_freq.registerTempTable(\"loyal_freq\")"
   ]
  },
  {
   "cell_type": "code",
   "execution_count": 32,
   "metadata": {},
   "outputs": [
    {
     "name": "stdout",
     "output_type": "stream",
     "text": [
      "+--------------------------+\n",
      "|avg_days_btwn_commit_loyal|\n",
      "+--------------------------+\n",
      "|         5.931300448820951|\n",
      "+--------------------------+\n",
      "\n"
     ]
    }
   ],
   "source": [
    "#Average days between commit for each repo for loyal devs\n",
    "spark.sql(\"\"\"\n",
    "SELECT AVG(avg_days_btwn_commit) as avg_days_btwn_commit_loyal\n",
    "FROM\n",
    "(\n",
    "SELECT dev, name,\n",
    "CASE\n",
    "    WHEN COUNT(*) < 2 THEN 0\n",
    "    ELSE DATEDIFF(MAX(time),MIN(time))/(COUNT(*)-1)\n",
    "END AS avg_days_btwn_commit\n",
    "FROM loyal_freq\n",
    "GROUP BY dev, name\n",
    ")\n",
    "\"\"\").show()"
   ]
  },
  {
   "cell_type": "code",
   "execution_count": 24,
   "metadata": {},
   "outputs": [],
   "source": [
    "#retriving commit time for each commit for unloyal devs\n",
    "unloyal_freq = spark.sql(\"\"\"\n",
    "\n",
    "SELECT dev, name, time\n",
    "FROM df\n",
    "WHERE dev IN\n",
    "(\n",
    "SELECT dev\n",
    "FROM unloyal_devs\n",
    ")\n",
    "GROUP BY dev, name, time\n",
    "ORDER BY dev, name, time\n",
    "\n",
    "\"\"\")\n",
    "unloyal_freq.registerTempTable(\"unloyal_freq\")"
   ]
  },
  {
   "cell_type": "code",
   "execution_count": 35,
   "metadata": {},
   "outputs": [
    {
     "name": "stdout",
     "output_type": "stream",
     "text": [
      "+----------------------------+\n",
      "|avg_days_btwn_commit_unloyal|\n",
      "+----------------------------+\n",
      "|           8.475541336924044|\n",
      "+----------------------------+\n",
      "\n"
     ]
    }
   ],
   "source": [
    "#Average days between commit for each repo for unloyal devs\n",
    "spark.sql(\"\"\"\n",
    "SELECT AVG(avg_days_btwn_commit) as avg_days_btwn_commit_unloyal\n",
    "FROM\n",
    "(\n",
    "SELECT dev, name,\n",
    "CASE\n",
    "    WHEN COUNT(*) < 2 THEN 0\n",
    "    ELSE DATEDIFF(MAX(time),MIN(time))/(COUNT(*)-1)\n",
    "END AS avg_days_btwn_commit\n",
    "FROM unloyal_freq\n",
    "GROUP BY dev, name\n",
    ")\n",
    "\"\"\").show()"
   ]
  },
  {
   "cell_type": "markdown",
   "metadata": {},
   "source": [
    "#### Predicting loyalty from first contributions"
   ]
  },
  {
   "cell_type": "markdown",
   "metadata": {},
   "source": [
    "\n",
    "Finally, a prediction task of determining whether a user will become loyal to a community based on the user’s comments to that community is conducted in the research paper. To do so a classifier is trained per community on the initial k=3 comments of users who made their first contributions between January 2014 - June 2014 and predictions are made on users that commented on the community during July 2014 - October 2014. A random forest classifier was used, and features used were post score, post language and comment language.\n",
    "For my research I carried out a similar prediction task using random forest classifier in PySpark ML library. The features were chosen on a monthly basis. Therefore, the data used was not 4 months for training and predicting like in the research but 1 year since the information available for each developer will not be enough if just 4 months was utilised. The features and the label created and used for the prediction were:<br><br>\n",
    "• Feature 1 - Number of commits per month for each developer - as seen in section 4.1 is different for loyal and unloyal repositories<br>\n",
    "• Feature 2 - Average repository loyalty ratio - as seen in section 3.0<br>\n",
    "• Feature 3 - Watch count of the repository the developer is committing to - as seen in section 5.1<br>\n",
    "• Feature 4 - Average days between commit for each developer - as seen in section 5.2<br>\n",
    "• Label - '1' if the developer loyalty ratio is greater than 0.8 and '0' if the loyalty ratio is less than equal to 0.8. This threshold is selected based on average developer loyalty ratio which was found to be 0.8.<br><br>\n",
    "The model was trained on data for each developer and the corresponding repositories the committed, which can be more than one for each developer, and their corresponding above-mentioned features for year 2017. The predictions were made on 2018 data using the same features. A random forest classifier with 100 trees and a max depth of 10 was used to train. The model was then used to predict if a developer will be loyal or will be vagrant on GitHub defined by the criteria in section 3.0 based on average days between commit, number of commits per month, loyalty ratio for repositories and the repository watch count for the first month of his commits, similar to how the research predicted whether user will be loyal based on initial 3 comments. The model performs yielded 0.9 Area Under ROC in predicting loyalty of a developer. This suggests that the features we calculated and used are a very good predictor of whether a developer will be loyal or not given their earlier commits on GitHub."
   ]
  },
  {
   "cell_type": "code",
   "execution_count": 47,
   "metadata": {},
   "outputs": [
    {
     "name": "stdout",
     "output_type": "stream",
     "text": [
      "+--------------------------+\n",
      "|avg_loyalty_ratio_all_devs|\n",
      "+--------------------------+\n",
      "|        0.8013986199399455|\n",
      "+--------------------------+\n",
      "\n"
     ]
    }
   ],
   "source": [
    "# selection criteria for label\n",
    "spark.sql(\"\"\"\n",
    "SELECT AVG(dev_loyalty_ratio) as avg_loyalty_ratio_all_devs\n",
    "FROM\n",
    "(\n",
    "SELECT dev, year, month,\n",
    "COUNT(CASE WHEN loyalty = \"loyal\" THEN 1 END)/COUNT(*) as dev_loyalty_ratio\n",
    "FROM loyal_new\n",
    "GROUP BY dev, year, month\n",
    ")\n",
    "\"\"\").show()"
   ]
  },
  {
   "cell_type": "code",
   "execution_count": 21,
   "metadata": {},
   "outputs": [],
   "source": [
    "#Feature 1 - Number of commits per month for each dev to each repo\n",
    "train_f1 = spark.sql(\"\"\"\n",
    "\n",
    "SELECT dev, name, AVG(number_of_commits) as avg_number_of_commits_permonth\n",
    "FROM\n",
    "(\n",
    "SELECT dev, name, MONTH(time) as month, COUNT(*) as number_of_commits\n",
    "FROM\n",
    "(\n",
    "SELECT dev, name, time, watch_count\n",
    "FROM df\n",
    "WHERE name IN\n",
    "(\n",
    "SELECT DISTINCT(repo_name)\n",
    "FROM loyal_new\n",
    ")\n",
    "AND YEAR(time) = 2017\n",
    ")\n",
    "GROUP BY dev, name, month\n",
    ")\n",
    "GROUP BY dev, name\n",
    "\n",
    "\"\"\")\n",
    "train_f1.registerTempTable(\"train_f1\")"
   ]
  },
  {
   "cell_type": "code",
   "execution_count": 22,
   "metadata": {},
   "outputs": [],
   "source": [
    "#Feature 2 - Loyalty ratio of the repos\n",
    "train_f2 = spark.sql(\"\"\"\n",
    "\n",
    "SELECT repo_name, AVG(loyalty_ratio) as avg_loyalty_ratio\n",
    "FROM\n",
    "(\n",
    "SELECT repo_name, year, month,\n",
    "(COUNT(CASE WHEN loyalty = \"loyal\" THEN 1 END)/COUNT(*)) as loyalty_ratio\n",
    "FROM loyal_new\n",
    "GROUP BY repo_name, year, month\n",
    "HAVING year = 2017\n",
    "\n",
    ")\n",
    "GROUP BY repo_name\n",
    "\n",
    "\n",
    "\"\"\")\n",
    "\n",
    "train_f2.registerTempTable(\"train_f2\")"
   ]
  },
  {
   "cell_type": "code",
   "execution_count": 23,
   "metadata": {},
   "outputs": [],
   "source": [
    "#Feature 3 - Average Days between commit for each dev\n",
    "train_f3 = spark.sql(\"\"\"\n",
    "\n",
    "SELECT dev, name,\n",
    "CASE\n",
    "    WHEN COUNT(*) < 2 THEN 0\n",
    "    ELSE DATEDIFF(MAX(time),MIN(time))/(COUNT(*)-1)\n",
    "END AS avg_days_btwn_commit\n",
    "FROM\n",
    "(\n",
    "SELECT dev, name, time, watch_count\n",
    "FROM df\n",
    "WHERE name IN\n",
    "(\n",
    "SELECT DISTINCT(repo_name)\n",
    "FROM loyal_new\n",
    ")\n",
    "AND YEAR(time) = 2017\n",
    ")\n",
    "GROUP BY dev, name\n",
    "\n",
    "\"\"\")\n",
    "\n",
    "train_f3.registerTempTable(\"train_f3\")"
   ]
  },
  {
   "cell_type": "code",
   "execution_count": 24,
   "metadata": {},
   "outputs": [],
   "source": [
    "#Feature 4 - watch count of each repo\n",
    "train_f4 = spark.sql(\"\"\"\n",
    "\n",
    "SELECT dev, name, AVG(watch_count) as avg_watch_count\n",
    "FROM\n",
    "(\n",
    "SELECT dev, name, time, watch_count\n",
    "FROM df\n",
    "WHERE name IN\n",
    "(\n",
    "SELECT DISTINCT(repo_name)\n",
    "FROM loyal_new\n",
    ")\n",
    "AND YEAR(time) = 2017\n",
    ")\n",
    "GROUP BY dev, name\n",
    "\n",
    "\"\"\")\n",
    "\n",
    "train_f4.registerTempTable(\"train_f4\")"
   ]
  },
  {
   "cell_type": "code",
   "execution_count": 25,
   "metadata": {},
   "outputs": [],
   "source": [
    "# Label generation\n",
    "label = spark.sql(\"\"\"\n",
    "\n",
    "SELECT dev,\n",
    "CASE\n",
    "    WHEN avg_dev_loyalty_ratio >0.8 THEN 1\n",
    "    WHEN avg_dev_loyalty_ratio <= 0.8 THEN 0\n",
    "END AS label\n",
    "FROM\n",
    "(\n",
    "SELECT dev, AVG(dev_loyalty_ratio) as avg_dev_loyalty_ratio\n",
    "FROM\n",
    "(\n",
    "SELECT dev, year, month,\n",
    "COUNT(CASE WHEN loyalty = \"loyal\" THEN 1 END)/COUNT(*) as dev_loyalty_ratio\n",
    "FROM loyal_new\n",
    "GROUP BY dev, year, month\n",
    "HAVING year =2017\n",
    ")\n",
    "GROUP BY dev\n",
    ")\n",
    "\n",
    "\n",
    "\"\"\")\n",
    "\n",
    "label.registerTempTable(\"label\")"
   ]
  },
  {
   "cell_type": "code",
   "execution_count": 26,
   "metadata": {},
   "outputs": [],
   "source": [
    "#Training set 2017\n",
    "\n",
    "train = spark.sql(\"\"\"\n",
    "\n",
    "SELECT train_f1.dev, train_f1.name, avg_days_btwn_commit, avg_loyalty_ratio, avg_number_of_commits_permonth, avg_watch_count, label\n",
    "FROM train_f1\n",
    "JOIN train_f3 ON train_f1.dev=train_f3.dev AND train_f1.name = train_f3.name\n",
    "    JOIN train_f4 ON train_f3.dev=train_f4.dev AND train_f4.name = train_f4.name\n",
    "        JOIN label ON train_f4.dev=label.dev\n",
    "            JOIN train_f2 ON train_f1.name = train_f2.repo_name\n",
    "\n",
    "        \n",
    "\"\"\")\n",
    "train.registerTempTable(\"train\")"
   ]
  },
  {
   "cell_type": "code",
   "execution_count": 39,
   "metadata": {},
   "outputs": [
    {
     "data": {
      "text/html": [
       "<div>\n",
       "<style scoped>\n",
       "    .dataframe tbody tr th:only-of-type {\n",
       "        vertical-align: middle;\n",
       "    }\n",
       "\n",
       "    .dataframe tbody tr th {\n",
       "        vertical-align: top;\n",
       "    }\n",
       "\n",
       "    .dataframe thead th {\n",
       "        text-align: right;\n",
       "    }\n",
       "</style>\n",
       "<table border=\"1\" class=\"dataframe\">\n",
       "  <thead>\n",
       "    <tr style=\"text-align: right;\">\n",
       "      <th></th>\n",
       "      <th>dev</th>\n",
       "      <th>name</th>\n",
       "      <th>avg_days_btwn_commit</th>\n",
       "      <th>avg_loyalty_ratio</th>\n",
       "      <th>avg_number_of_commits_permonth</th>\n",
       "      <th>avg_watch_count</th>\n",
       "      <th>label</th>\n",
       "    </tr>\n",
       "  </thead>\n",
       "  <tbody>\n",
       "    <tr>\n",
       "      <th>0</th>\n",
       "      <td>Gary Rennie</td>\n",
       "      <td>Gazler/githug</td>\n",
       "      <td>12.478261</td>\n",
       "      <td>0.25000</td>\n",
       "      <td>6.0</td>\n",
       "      <td>1088.0</td>\n",
       "      <td>unloyal</td>\n",
       "    </tr>\n",
       "    <tr>\n",
       "      <th>1</th>\n",
       "      <td>Gary Rennie</td>\n",
       "      <td>Gazler/githug</td>\n",
       "      <td>12.478261</td>\n",
       "      <td>0.25000</td>\n",
       "      <td>6.0</td>\n",
       "      <td>1639.0</td>\n",
       "      <td>unloyal</td>\n",
       "    </tr>\n",
       "    <tr>\n",
       "      <th>2</th>\n",
       "      <td>comesx4</td>\n",
       "      <td>QuantConnect/Lean</td>\n",
       "      <td>0.000000</td>\n",
       "      <td>0.76945</td>\n",
       "      <td>11.0</td>\n",
       "      <td>156.0</td>\n",
       "      <td>loyal</td>\n",
       "    </tr>\n",
       "    <tr>\n",
       "      <th>3</th>\n",
       "      <td>Tom Hunter</td>\n",
       "      <td>QuantConnect/Lean</td>\n",
       "      <td>0.000000</td>\n",
       "      <td>0.76945</td>\n",
       "      <td>11.0</td>\n",
       "      <td>156.0</td>\n",
       "      <td>loyal</td>\n",
       "    </tr>\n",
       "    <tr>\n",
       "      <th>4</th>\n",
       "      <td>Matthew Sedam</td>\n",
       "      <td>QuantConnect/Lean</td>\n",
       "      <td>0.171053</td>\n",
       "      <td>0.76945</td>\n",
       "      <td>38.5</td>\n",
       "      <td>156.0</td>\n",
       "      <td>loyal</td>\n",
       "    </tr>\n",
       "    <tr>\n",
       "      <th>5</th>\n",
       "      <td>Sarel Esterhuizen</td>\n",
       "      <td>QuantConnect/Lean</td>\n",
       "      <td>0.031250</td>\n",
       "      <td>0.76945</td>\n",
       "      <td>33.0</td>\n",
       "      <td>156.0</td>\n",
       "      <td>loyal</td>\n",
       "    </tr>\n",
       "    <tr>\n",
       "      <th>6</th>\n",
       "      <td>Atif Aziz</td>\n",
       "      <td>QuantConnect/Lean</td>\n",
       "      <td>0.162791</td>\n",
       "      <td>0.76945</td>\n",
       "      <td>44.0</td>\n",
       "      <td>156.0</td>\n",
       "      <td>unloyal</td>\n",
       "    </tr>\n",
       "    <tr>\n",
       "      <th>7</th>\n",
       "      <td>Atif Aziz</td>\n",
       "      <td>QuantConnect/Lean</td>\n",
       "      <td>0.162791</td>\n",
       "      <td>0.76945</td>\n",
       "      <td>44.0</td>\n",
       "      <td>177.0</td>\n",
       "      <td>unloyal</td>\n",
       "    </tr>\n",
       "    <tr>\n",
       "      <th>8</th>\n",
       "      <td>Stefano Raggi</td>\n",
       "      <td>QuantConnect/Lean</td>\n",
       "      <td>0.089689</td>\n",
       "      <td>0.76945</td>\n",
       "      <td>335.5</td>\n",
       "      <td>156.0</td>\n",
       "      <td>loyal</td>\n",
       "    </tr>\n",
       "    <tr>\n",
       "      <th>9</th>\n",
       "      <td>oswaldozapata</td>\n",
       "      <td>QuantConnect/Lean</td>\n",
       "      <td>0.052632</td>\n",
       "      <td>0.76945</td>\n",
       "      <td>77.0</td>\n",
       "      <td>156.0</td>\n",
       "      <td>loyal</td>\n",
       "    </tr>\n",
       "  </tbody>\n",
       "</table>\n",
       "</div>"
      ],
      "text/plain": [
       "                 dev               name  avg_days_btwn_commit  \\\n",
       "0        Gary Rennie      Gazler/githug             12.478261   \n",
       "1        Gary Rennie      Gazler/githug             12.478261   \n",
       "2            comesx4  QuantConnect/Lean              0.000000   \n",
       "3         Tom Hunter  QuantConnect/Lean              0.000000   \n",
       "4      Matthew Sedam  QuantConnect/Lean              0.171053   \n",
       "5  Sarel Esterhuizen  QuantConnect/Lean              0.031250   \n",
       "6          Atif Aziz  QuantConnect/Lean              0.162791   \n",
       "7          Atif Aziz  QuantConnect/Lean              0.162791   \n",
       "8      Stefano Raggi  QuantConnect/Lean              0.089689   \n",
       "9      oswaldozapata  QuantConnect/Lean              0.052632   \n",
       "\n",
       "   avg_loyalty_ratio  avg_number_of_commits_permonth  avg_watch_count    label  \n",
       "0            0.25000                             6.0           1088.0  unloyal  \n",
       "1            0.25000                             6.0           1639.0  unloyal  \n",
       "2            0.76945                            11.0            156.0    loyal  \n",
       "3            0.76945                            11.0            156.0    loyal  \n",
       "4            0.76945                            38.5            156.0    loyal  \n",
       "5            0.76945                            33.0            156.0    loyal  \n",
       "6            0.76945                            44.0            156.0  unloyal  \n",
       "7            0.76945                            44.0            177.0  unloyal  \n",
       "8            0.76945                           335.5            156.0    loyal  \n",
       "9            0.76945                            77.0            156.0    loyal  "
      ]
     },
     "execution_count": 39,
     "metadata": {},
     "output_type": "execute_result"
    }
   ],
   "source": [
    "train.limit(10).toPandas()"
   ]
  },
  {
   "cell_type": "code",
   "execution_count": 27,
   "metadata": {},
   "outputs": [],
   "source": [
    "## Constructing the testing set where year = 2018 ##\n",
    "\n",
    "#Feature 1 - Number of commits per month for each dev to each repo\n",
    "test_f1 = spark.sql(\"\"\"\n",
    "\n",
    "SELECT dev, name, AVG(number_of_commits) as avg_number_of_commits_permonth\n",
    "FROM\n",
    "(\n",
    "SELECT dev, name, MONTH(time) as month, COUNT(*) as number_of_commits\n",
    "FROM\n",
    "(\n",
    "SELECT dev, name, time, watch_count\n",
    "FROM df\n",
    "WHERE name IN\n",
    "(\n",
    "SELECT DISTINCT(repo_name)\n",
    "FROM loyal_new\n",
    ")\n",
    "AND YEAR(time) = 2018\n",
    ")\n",
    "GROUP BY dev, name, month\n",
    ")\n",
    "GROUP BY dev, name\n",
    "\n",
    "\"\"\")\n",
    "test_f1.registerTempTable(\"test_f1\")\n",
    "\n",
    "\n",
    "\n",
    "#Feature 2 - Loyalty ratio of the repos\n",
    "test_f2 = spark.sql(\"\"\"\n",
    "\n",
    "SELECT repo_name, AVG(loyalty_ratio) as avg_loyalty_ratio\n",
    "FROM\n",
    "(\n",
    "SELECT repo_name, year, month,\n",
    "(COUNT(CASE WHEN loyalty = \"loyal\" THEN 1 END)/COUNT(*)) as loyalty_ratio\n",
    "FROM loyal_new\n",
    "GROUP BY repo_name, year, month\n",
    "HAVING year = 2018\n",
    "\n",
    ")\n",
    "GROUP BY repo_name\n",
    "\n",
    "\n",
    "\"\"\")\n",
    "\n",
    "test_f2.registerTempTable(\"test_f2\")\n",
    "\n",
    "\n",
    "#Feature 3 - Average Days between commit for each dev\n",
    "test_f3 = spark.sql(\"\"\"\n",
    "\n",
    "SELECT dev, name,\n",
    "CASE\n",
    "    WHEN COUNT(*) < 2 THEN 0\n",
    "    ELSE DATEDIFF(MAX(time),MIN(time))/(COUNT(*)-1)\n",
    "END AS avg_days_btwn_commit\n",
    "FROM\n",
    "(\n",
    "SELECT dev, name, time, watch_count\n",
    "FROM df\n",
    "WHERE name IN\n",
    "(\n",
    "SELECT DISTINCT(repo_name)\n",
    "FROM loyal_new\n",
    ")\n",
    "AND YEAR(time) = 2018\n",
    ")\n",
    "GROUP BY dev, name\n",
    "\n",
    "\"\"\")\n",
    "\n",
    "test_f3.registerTempTable(\"test_f3\")\n",
    "\n",
    "#Feature 4 - watch count of each repo\n",
    "test_f4 = spark.sql(\"\"\"\n",
    "\n",
    "SELECT dev, name, AVG(watch_count) as avg_watch_count\n",
    "FROM\n",
    "(\n",
    "SELECT dev, name, time, watch_count\n",
    "FROM df\n",
    "WHERE name IN\n",
    "(\n",
    "SELECT DISTINCT(repo_name)\n",
    "FROM loyal_new\n",
    ")\n",
    "AND YEAR(time) = 2018\n",
    ")\n",
    "GROUP BY dev, name\n",
    "\n",
    "\"\"\")\n",
    "\n",
    "test_f4.registerTempTable(\"test_f4\")\n",
    "\n",
    "# Label generation\n",
    "test_label = spark.sql(\"\"\"\n",
    "\n",
    "SELECT dev,\n",
    "CASE\n",
    "    WHEN avg_dev_loyalty_ratio >0.8 THEN 1\n",
    "    WHEN avg_dev_loyalty_ratio <= 0.8 THEN 0\n",
    "END AS label\n",
    "FROM\n",
    "(\n",
    "SELECT dev, AVG(dev_loyalty_ratio) as avg_dev_loyalty_ratio\n",
    "FROM\n",
    "(\n",
    "SELECT dev, year, month,\n",
    "COUNT(CASE WHEN loyalty = \"loyal\" THEN 1 END)/COUNT(*) as dev_loyalty_ratio\n",
    "FROM loyal_new\n",
    "GROUP BY dev, year, month\n",
    "HAVING year = 2018\n",
    ")\n",
    "GROUP BY dev\n",
    ")\n",
    "\n",
    "\n",
    "\"\"\")\n",
    "\n",
    "test_label.registerTempTable(\"test_label\")\n",
    "\n",
    "#Training set 2017\n",
    "\n",
    "test = spark.sql(\"\"\"\n",
    "\n",
    "SELECT test_f1.dev, test_f1.name, avg_days_btwn_commit, avg_loyalty_ratio, avg_number_of_commits_permonth, avg_watch_count, label\n",
    "FROM test_f1\n",
    "JOIN test_f3 ON test_f1.dev=test_f3.dev AND test_f1.name = test_f3.name\n",
    "    JOIN test_f4 ON test_f3.dev=test_f4.dev AND test_f4.name = test_f4.name\n",
    "        JOIN test_label ON test_f4.dev=test_label.dev\n",
    "            JOIN test_f2 ON test_f1.name = test_f2.repo_name\n",
    "\n",
    "        \n",
    "\"\"\")\n",
    "test.registerTempTable(\"test\")"
   ]
  },
  {
   "cell_type": "code",
   "execution_count": 28,
   "metadata": {},
   "outputs": [],
   "source": [
    "## Creating Pipeline for model\n",
    "\n",
    "cols = ['avg_days_btwn_commit','avg_loyalty_ratio','avg_number_of_commits_permonth','avg_watch_count']\n",
    "stages = []\n",
    "assemblerInputs = cols\n",
    "assembler = VectorAssembler(inputCols=assemblerInputs, outputCol=\"features\")\n",
    "stages += [assembler]\n",
    "label_stringIdx = StringIndexer(inputCol = 'label', outputCol = 'y')\n",
    "stages += [label_stringIdx]\n"
   ]
  },
  {
   "cell_type": "code",
   "execution_count": 29,
   "metadata": {},
   "outputs": [
    {
     "data": {
      "text/plain": [
       "[VectorAssembler_429ab4d304a532ec2b68, StringIndexer_4fe199d413d44d822b86]"
      ]
     },
     "execution_count": 29,
     "metadata": {},
     "output_type": "execute_result"
    }
   ],
   "source": [
    "stages"
   ]
  },
  {
   "cell_type": "code",
   "execution_count": 30,
   "metadata": {},
   "outputs": [
    {
     "name": "stdout",
     "output_type": "stream",
     "text": [
      "root\n",
      " |-- y: double (nullable = false)\n",
      " |-- features: vector (nullable = true)\n",
      " |-- dev: string (nullable = true)\n",
      " |-- name: string (nullable = true)\n",
      " |-- avg_days_btwn_commit: double (nullable = true)\n",
      " |-- avg_loyalty_ratio: double (nullable = true)\n",
      " |-- avg_number_of_commits_permonth: double (nullable = true)\n",
      " |-- avg_watch_count: double (nullable = true)\n",
      " |-- label: integer (nullable = true)\n",
      "\n"
     ]
    }
   ],
   "source": [
    "#Transforming train data using pipeline\n",
    "pipeline = Pipeline(stages = stages)\n",
    "pipelineModel = pipeline.fit(train)\n",
    "train_transformed = pipelineModel.transform(train)\n",
    "selectedCols = ['y', 'features'] + train.columns\n",
    "train_transformed = train_transformed.select(selectedCols)\n",
    "train_transformed.printSchema()"
   ]
  },
  {
   "cell_type": "code",
   "execution_count": 31,
   "metadata": {},
   "outputs": [
    {
     "name": "stdout",
     "output_type": "stream",
     "text": [
      "root\n",
      " |-- y: double (nullable = false)\n",
      " |-- features: vector (nullable = true)\n",
      " |-- dev: string (nullable = true)\n",
      " |-- name: string (nullable = true)\n",
      " |-- avg_days_btwn_commit: double (nullable = true)\n",
      " |-- avg_loyalty_ratio: double (nullable = true)\n",
      " |-- avg_number_of_commits_permonth: double (nullable = true)\n",
      " |-- avg_watch_count: double (nullable = true)\n",
      " |-- label: integer (nullable = true)\n",
      "\n"
     ]
    }
   ],
   "source": [
    "#Transforming test data using pipeline\n",
    "pipeline2 = Pipeline(stages = stages)\n",
    "pipelineModel2 = pipeline2.fit(test)\n",
    "test_transformed = pipelineModel2.transform(test)\n",
    "selectedCols = ['y', 'features'] + test.columns\n",
    "test_transformed = test_transformed.select(selectedCols)\n",
    "test_transformed.printSchema()"
   ]
  },
  {
   "cell_type": "code",
   "execution_count": 32,
   "metadata": {},
   "outputs": [],
   "source": [
    "#initializing model\n",
    "rf = RandomForestClassifier(featuresCol = 'features', labelCol = 'y', numTrees=100, maxDepth=10)\n",
    "rfModel = rf.fit(train_transformed)"
   ]
  },
  {
   "cell_type": "code",
   "execution_count": 33,
   "metadata": {},
   "outputs": [],
   "source": [
    "#Generating predictionsS\n",
    "predictions = rfModel.transform(test_transformed)"
   ]
  },
  {
   "cell_type": "code",
   "execution_count": 34,
   "metadata": {
    "scrolled": true
   },
   "outputs": [
    {
     "name": "stdout",
     "output_type": "stream",
     "text": [
      "Area Under ROC: 0.9002166073399748\n"
     ]
    }
   ],
   "source": [
    "#Evaluating based on area under ROC\n",
    "evaluator = BinaryClassificationEvaluator().setMetricName(\"areaUnderROC\")\n",
    "print('Area Under ROC:',evaluator.evaluate(predictions))"
   ]
  },
  {
   "cell_type": "code",
   "execution_count": null,
   "metadata": {},
   "outputs": [],
   "source": [
    "#Visualising precitions and true label for first 20 rows\n",
    "predictions.select('y', 'rawPrediction', 'prediction', 'probability').limit(20).toPandas()"
   ]
  },
  {
   "cell_type": "markdown",
   "metadata": {},
   "source": [
    "\n",
    "In addition to the previous prediction task, the research paper in section 5.4 also predicted whether a comment is made by a loyal or a vagrant user. Since my project does not focus on linguistic analysis of comments, due to the nature of linguistic features that can be created using GitHub and due to time constraint, this prediction task was not possible with the current features developed and is thus was out of scope of my project."
   ]
  },
  {
   "cell_type": "markdown",
   "metadata": {},
   "source": [
    "## Project Plan\n"
   ]
  },
  {
   "cell_type": "markdown",
   "metadata": {},
   "source": [
    "### Hours Spent"
   ]
  },
  {
   "cell_type": "markdown",
   "metadata": {},
   "source": [
    "|  Project Version  | CRISP-DM Task  | Research Task/Section | Hours Spent (hours) |\n",
    "| --- | --- | --- | --- |\n",
    "| **V1** | Data Understanding | Understanding Google BigQuery, Familiarising with Data,Exploring Data, Verifying Data requirements for research | 2 |\n",
    "|    |\n",
    "| - | Data Preparation | Main Dataset – Retrieving Data from BigQuery, Joining and Cleaning data to create final data frame <br><br>Section 3 – Defining Loyal Users and Loyal Communities<br><br>Section 4 – Community Level Loyalty – Features and Language of Loyal Community, Interaction Network (Test Analysis 1)<br><br>Section 5 – User Level Loyalty – Repository popularity, Commit style of developers, Model features creation |3<br><br>5<br><br>4<br><br>5 |\n",
    "|    |\n",
    "| - | Modelling and Evaluation | Section 5.3 – Prediction Model (Test Analysis 2)|2 |\n",
    "|    |\n",
    "| - | - | Report Writing, Jupyter Notebook Cleaning | 4 |\n",
    "| - | - | - | Total V1: 25 |\n",
    "|    |\n",
    "| **V2** | Data Preparation | Section 3 – Redefining Loyal Communities, Loyalty Rate, Loyalty Ratio<br><br>Section 4 – More Queries for 4.1, Adding Visualizations<br><br>Section 5 - Defined loyal and unloyal dev, added more features in 5.3 for prediction|4<br><br>3<br><br>6 |\n",
    "|    |\n",
    "| - | Modelling and Evaluation | Section 5.3 – Model Creation and Evaluation |2 |\n",
    "|    |\n",
    "| - | - | Report Writing, Jupyter Notebook Cleaning | 2 |\n",
    "| - | - | - | Total V2: 17 |\n",
    "|    |\n",
    "| **F** |-<br><br><br>-|Final Check for all sections to include feedbacks<br><br><br>Final report writing | 2<br><br><br>6  |\n",
    "| - | - | - | Total F: 8 |\n",
    "|    |\n",
    "| - | - | - | **Project Total**: 50 |"
   ]
  },
  {
   "cell_type": "markdown",
   "metadata": {},
   "source": [
    "## References"
   ]
  },
  {
   "cell_type": "markdown",
   "metadata": {},
   "source": [
    "[1] Hamilton, William & Zhang, Justine & Danescu-Niculescu-Mizil, Cristian & Jurafsky, Dan & Leskovec,\n",
    "Jure. (2017). “Loyalty in Online Communities”. Proceedings of the Eleventh International AAAI\n",
    "Conference on Weblogs and Social Media (ICWSM 2017). 540-543.<br><br>\n",
    "[2] Google Cloud Platform, “Github activity Data”, google.com, Sept 13th 2019. [Online]. Available:\n",
    "https://console.cloud.google.com/marketplace/details/github/github-repos?filter=solutiontype:dataset&q=github&id=46ee22ab-2ca4-4750-81a7-3ee0f0150dcb [Accessed Feb. 23, 2020] <br><br>\n",
    "[3] João Eduardo Montandon, Luciana Lourdes Silva, and Marco Tulio Valente. 2019. “Identifying experts\n",
    "in software libraries and frameworks among GitHub users”. Proceedings of the 16th International\n",
    "Conference on Mining Software Repositories (MSR ’19). IEEE Press, 276–287.\n",
    "DOI:https://doi.org/10.1109/MSR.2019.00054 <br><br>"
   ]
  },
  {
   "cell_type": "code",
   "execution_count": null,
   "metadata": {},
   "outputs": [],
   "source": []
  }
 ],
 "metadata": {
  "kernelspec": {
   "display_name": "Python 3",
   "language": "python",
   "name": "python3"
  },
  "language_info": {
   "codemirror_mode": {
    "name": "ipython",
    "version": 3
   },
   "file_extension": ".py",
   "mimetype": "text/x-python",
   "name": "python",
   "nbconvert_exporter": "python",
   "pygments_lexer": "ipython3",
   "version": "3.6.7"
  }
 },
 "nbformat": 4,
 "nbformat_minor": 2
}
